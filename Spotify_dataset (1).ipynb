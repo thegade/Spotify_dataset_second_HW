{
 "cells": [
  {
   "cell_type": "markdown",
   "id": "V1vUv86suRub",
   "metadata": {
    "id": "V1vUv86suRub"
   },
   "source": [
    "Импорт библиотеки pandas для работы с данными"
   ]
  },
  {
   "cell_type": "code",
   "execution_count": 5,
   "id": "initial_id",
   "metadata": {
    "id": "initial_id",
    "ExecuteTime": {
     "end_time": "2023-12-30T12:38:07.731960Z",
     "start_time": "2023-12-30T12:38:07.721104Z"
    }
   },
   "outputs": [],
   "source": [
    "import pandas as pd\n",
    "import matplotlib.pyplot as plt\n",
    "import seaborn as sns\n",
    "import numpy as np"
   ]
  },
  {
   "cell_type": "markdown",
   "id": "yBUqlnVwuWId",
   "metadata": {
    "id": "yBUqlnVwuWId"
   },
   "source": [
    "С помощью pandas считываем csv файл, с которым мы и будем взаимодействовать в качестве датафрейма"
   ]
  },
  {
   "cell_type": "code",
   "execution_count": 6,
   "id": "7gHQOmtZe-4t",
   "metadata": {
    "id": "7gHQOmtZe-4t",
    "ExecuteTime": {
     "end_time": "2023-12-30T12:38:09.586106Z",
     "start_time": "2023-12-30T12:38:09.350709Z"
    }
   },
   "outputs": [],
   "source": [
    "df = pd.read_csv('spotify.csv').drop(columns='Unnamed: 0')"
   ]
  },
  {
   "cell_type": "markdown",
   "id": "VErzS3ovuhEh",
   "metadata": {
    "id": "VErzS3ovuhEh"
   },
   "source": [
    "Просто вывод датафрейма, для просмотра его столбцов или проверки целостности отображения"
   ]
  },
  {
   "cell_type": "code",
   "execution_count": 7,
   "id": "YVo6jchgfYzR",
   "metadata": {
    "colab": {
     "base_uri": "https://localhost:8080/",
     "height": 721
    },
    "id": "YVo6jchgfYzR",
    "outputId": "5e8bd496-e64d-4f97-9d1b-ab6d5f3b6c08",
    "ExecuteTime": {
     "end_time": "2023-12-30T12:38:11.278465Z",
     "start_time": "2023-12-30T12:38:11.259150Z"
    }
   },
   "outputs": [
    {
     "data": {
      "text/plain": "                      track_id                 artists  \\\n0       5SuOikwiRyPMVoIQDJUgSV             Gen Hoshino   \n1       4qPNDBW1i3p13qLCt0Ki3A            Ben Woodward   \n2       1iJBSr7s7jYXzM8EGcbK5b  Ingrid Michaelson;ZAYN   \n3       6lfxq3CG4xtTiEg7opyCyx            Kina Grannis   \n4       5vjLSffimiIP26QG5WcN2K        Chord Overstreet   \n...                        ...                     ...   \n113995  2C3TZjDRiAzdyViavDJ217           Rainy Lullaby   \n113996  1hIz5L4IB9hN3WRYPOCGPw           Rainy Lullaby   \n113997  6x8ZfSoqDjuNa5SVP5QjvX           Cesária Evora   \n113998  2e6sXL2bYv4bSz6VTdnfLs        Michael W. Smith   \n113999  2hETkH7cOfqmz3LqZDHZf5           Cesária Evora   \n\n                                               album_name  \\\n0                                                  Comedy   \n1                                        Ghost (Acoustic)   \n2                                          To Begin Again   \n3       Crazy Rich Asians (Original Motion Picture Sou...   \n4                                                 Hold On   \n...                                                   ...   \n113995  #mindfulness - Soft Rain for Mindful Meditatio...   \n113996  #mindfulness - Soft Rain for Mindful Meditatio...   \n113997                                            Best Of   \n113998                                  Change Your World   \n113999                                     Miss Perfumado   \n\n                        track_name  popularity  duration_ms  explicit  \\\n0                           Comedy          73       230666     False   \n1                 Ghost - Acoustic          55       149610     False   \n2                   To Begin Again          57       210826     False   \n3       Can't Help Falling In Love          71       201933     False   \n4                          Hold On          82       198853     False   \n...                            ...         ...          ...       ...   \n113995         Sleep My Little Boy          21       384999     False   \n113996            Water Into Light          22       385000     False   \n113997              Miss Perfumado          22       271466     False   \n113998                     Friends          41       283893     False   \n113999                   Barbincor          22       241826     False   \n\n        danceability  energy  key  loudness  mode  speechiness  acousticness  \\\n0              0.676  0.4610    1    -6.746     0       0.1430        0.0322   \n1              0.420  0.1660    1   -17.235     1       0.0763        0.9240   \n2              0.438  0.3590    0    -9.734     1       0.0557        0.2100   \n3              0.266  0.0596    0   -18.515     1       0.0363        0.9050   \n4              0.618  0.4430    2    -9.681     1       0.0526        0.4690   \n...              ...     ...  ...       ...   ...          ...           ...   \n113995         0.172  0.2350    5   -16.393     1       0.0422        0.6400   \n113996         0.174  0.1170    0   -18.318     0       0.0401        0.9940   \n113997         0.629  0.3290    0   -10.895     0       0.0420        0.8670   \n113998         0.587  0.5060    7   -10.889     1       0.0297        0.3810   \n113999         0.526  0.4870    1   -10.204     0       0.0725        0.6810   \n\n        instrumentalness  liveness  valence    tempo  time_signature  \\\n0               0.000001    0.3580   0.7150   87.917               4   \n1               0.000006    0.1010   0.2670   77.489               4   \n2               0.000000    0.1170   0.1200   76.332               4   \n3               0.000071    0.1320   0.1430  181.740               3   \n4               0.000000    0.0829   0.1670  119.949               4   \n...                  ...       ...      ...      ...             ...   \n113995          0.928000    0.0863   0.0339  125.995               5   \n113996          0.976000    0.1050   0.0350   85.239               4   \n113997          0.000000    0.0839   0.7430  132.378               4   \n113998          0.000000    0.2700   0.4130  135.960               4   \n113999          0.000000    0.0893   0.7080   79.198               4   \n\n        track_genre  \n0          acoustic  \n1          acoustic  \n2          acoustic  \n3          acoustic  \n4          acoustic  \n...             ...  \n113995  world-music  \n113996  world-music  \n113997  world-music  \n113998  world-music  \n113999  world-music  \n\n[114000 rows x 20 columns]",
      "text/html": "<div>\n<style scoped>\n    .dataframe tbody tr th:only-of-type {\n        vertical-align: middle;\n    }\n\n    .dataframe tbody tr th {\n        vertical-align: top;\n    }\n\n    .dataframe thead th {\n        text-align: right;\n    }\n</style>\n<table border=\"1\" class=\"dataframe\">\n  <thead>\n    <tr style=\"text-align: right;\">\n      <th></th>\n      <th>track_id</th>\n      <th>artists</th>\n      <th>album_name</th>\n      <th>track_name</th>\n      <th>popularity</th>\n      <th>duration_ms</th>\n      <th>explicit</th>\n      <th>danceability</th>\n      <th>energy</th>\n      <th>key</th>\n      <th>loudness</th>\n      <th>mode</th>\n      <th>speechiness</th>\n      <th>acousticness</th>\n      <th>instrumentalness</th>\n      <th>liveness</th>\n      <th>valence</th>\n      <th>tempo</th>\n      <th>time_signature</th>\n      <th>track_genre</th>\n    </tr>\n  </thead>\n  <tbody>\n    <tr>\n      <th>0</th>\n      <td>5SuOikwiRyPMVoIQDJUgSV</td>\n      <td>Gen Hoshino</td>\n      <td>Comedy</td>\n      <td>Comedy</td>\n      <td>73</td>\n      <td>230666</td>\n      <td>False</td>\n      <td>0.676</td>\n      <td>0.4610</td>\n      <td>1</td>\n      <td>-6.746</td>\n      <td>0</td>\n      <td>0.1430</td>\n      <td>0.0322</td>\n      <td>0.000001</td>\n      <td>0.3580</td>\n      <td>0.7150</td>\n      <td>87.917</td>\n      <td>4</td>\n      <td>acoustic</td>\n    </tr>\n    <tr>\n      <th>1</th>\n      <td>4qPNDBW1i3p13qLCt0Ki3A</td>\n      <td>Ben Woodward</td>\n      <td>Ghost (Acoustic)</td>\n      <td>Ghost - Acoustic</td>\n      <td>55</td>\n      <td>149610</td>\n      <td>False</td>\n      <td>0.420</td>\n      <td>0.1660</td>\n      <td>1</td>\n      <td>-17.235</td>\n      <td>1</td>\n      <td>0.0763</td>\n      <td>0.9240</td>\n      <td>0.000006</td>\n      <td>0.1010</td>\n      <td>0.2670</td>\n      <td>77.489</td>\n      <td>4</td>\n      <td>acoustic</td>\n    </tr>\n    <tr>\n      <th>2</th>\n      <td>1iJBSr7s7jYXzM8EGcbK5b</td>\n      <td>Ingrid Michaelson;ZAYN</td>\n      <td>To Begin Again</td>\n      <td>To Begin Again</td>\n      <td>57</td>\n      <td>210826</td>\n      <td>False</td>\n      <td>0.438</td>\n      <td>0.3590</td>\n      <td>0</td>\n      <td>-9.734</td>\n      <td>1</td>\n      <td>0.0557</td>\n      <td>0.2100</td>\n      <td>0.000000</td>\n      <td>0.1170</td>\n      <td>0.1200</td>\n      <td>76.332</td>\n      <td>4</td>\n      <td>acoustic</td>\n    </tr>\n    <tr>\n      <th>3</th>\n      <td>6lfxq3CG4xtTiEg7opyCyx</td>\n      <td>Kina Grannis</td>\n      <td>Crazy Rich Asians (Original Motion Picture Sou...</td>\n      <td>Can't Help Falling In Love</td>\n      <td>71</td>\n      <td>201933</td>\n      <td>False</td>\n      <td>0.266</td>\n      <td>0.0596</td>\n      <td>0</td>\n      <td>-18.515</td>\n      <td>1</td>\n      <td>0.0363</td>\n      <td>0.9050</td>\n      <td>0.000071</td>\n      <td>0.1320</td>\n      <td>0.1430</td>\n      <td>181.740</td>\n      <td>3</td>\n      <td>acoustic</td>\n    </tr>\n    <tr>\n      <th>4</th>\n      <td>5vjLSffimiIP26QG5WcN2K</td>\n      <td>Chord Overstreet</td>\n      <td>Hold On</td>\n      <td>Hold On</td>\n      <td>82</td>\n      <td>198853</td>\n      <td>False</td>\n      <td>0.618</td>\n      <td>0.4430</td>\n      <td>2</td>\n      <td>-9.681</td>\n      <td>1</td>\n      <td>0.0526</td>\n      <td>0.4690</td>\n      <td>0.000000</td>\n      <td>0.0829</td>\n      <td>0.1670</td>\n      <td>119.949</td>\n      <td>4</td>\n      <td>acoustic</td>\n    </tr>\n    <tr>\n      <th>...</th>\n      <td>...</td>\n      <td>...</td>\n      <td>...</td>\n      <td>...</td>\n      <td>...</td>\n      <td>...</td>\n      <td>...</td>\n      <td>...</td>\n      <td>...</td>\n      <td>...</td>\n      <td>...</td>\n      <td>...</td>\n      <td>...</td>\n      <td>...</td>\n      <td>...</td>\n      <td>...</td>\n      <td>...</td>\n      <td>...</td>\n      <td>...</td>\n      <td>...</td>\n    </tr>\n    <tr>\n      <th>113995</th>\n      <td>2C3TZjDRiAzdyViavDJ217</td>\n      <td>Rainy Lullaby</td>\n      <td>#mindfulness - Soft Rain for Mindful Meditatio...</td>\n      <td>Sleep My Little Boy</td>\n      <td>21</td>\n      <td>384999</td>\n      <td>False</td>\n      <td>0.172</td>\n      <td>0.2350</td>\n      <td>5</td>\n      <td>-16.393</td>\n      <td>1</td>\n      <td>0.0422</td>\n      <td>0.6400</td>\n      <td>0.928000</td>\n      <td>0.0863</td>\n      <td>0.0339</td>\n      <td>125.995</td>\n      <td>5</td>\n      <td>world-music</td>\n    </tr>\n    <tr>\n      <th>113996</th>\n      <td>1hIz5L4IB9hN3WRYPOCGPw</td>\n      <td>Rainy Lullaby</td>\n      <td>#mindfulness - Soft Rain for Mindful Meditatio...</td>\n      <td>Water Into Light</td>\n      <td>22</td>\n      <td>385000</td>\n      <td>False</td>\n      <td>0.174</td>\n      <td>0.1170</td>\n      <td>0</td>\n      <td>-18.318</td>\n      <td>0</td>\n      <td>0.0401</td>\n      <td>0.9940</td>\n      <td>0.976000</td>\n      <td>0.1050</td>\n      <td>0.0350</td>\n      <td>85.239</td>\n      <td>4</td>\n      <td>world-music</td>\n    </tr>\n    <tr>\n      <th>113997</th>\n      <td>6x8ZfSoqDjuNa5SVP5QjvX</td>\n      <td>Cesária Evora</td>\n      <td>Best Of</td>\n      <td>Miss Perfumado</td>\n      <td>22</td>\n      <td>271466</td>\n      <td>False</td>\n      <td>0.629</td>\n      <td>0.3290</td>\n      <td>0</td>\n      <td>-10.895</td>\n      <td>0</td>\n      <td>0.0420</td>\n      <td>0.8670</td>\n      <td>0.000000</td>\n      <td>0.0839</td>\n      <td>0.7430</td>\n      <td>132.378</td>\n      <td>4</td>\n      <td>world-music</td>\n    </tr>\n    <tr>\n      <th>113998</th>\n      <td>2e6sXL2bYv4bSz6VTdnfLs</td>\n      <td>Michael W. Smith</td>\n      <td>Change Your World</td>\n      <td>Friends</td>\n      <td>41</td>\n      <td>283893</td>\n      <td>False</td>\n      <td>0.587</td>\n      <td>0.5060</td>\n      <td>7</td>\n      <td>-10.889</td>\n      <td>1</td>\n      <td>0.0297</td>\n      <td>0.3810</td>\n      <td>0.000000</td>\n      <td>0.2700</td>\n      <td>0.4130</td>\n      <td>135.960</td>\n      <td>4</td>\n      <td>world-music</td>\n    </tr>\n    <tr>\n      <th>113999</th>\n      <td>2hETkH7cOfqmz3LqZDHZf5</td>\n      <td>Cesária Evora</td>\n      <td>Miss Perfumado</td>\n      <td>Barbincor</td>\n      <td>22</td>\n      <td>241826</td>\n      <td>False</td>\n      <td>0.526</td>\n      <td>0.4870</td>\n      <td>1</td>\n      <td>-10.204</td>\n      <td>0</td>\n      <td>0.0725</td>\n      <td>0.6810</td>\n      <td>0.000000</td>\n      <td>0.0893</td>\n      <td>0.7080</td>\n      <td>79.198</td>\n      <td>4</td>\n      <td>world-music</td>\n    </tr>\n  </tbody>\n</table>\n<p>114000 rows × 20 columns</p>\n</div>"
     },
     "execution_count": 7,
     "metadata": {},
     "output_type": "execute_result"
    }
   ],
   "source": [
    "df"
   ]
  },
  {
   "cell_type": "markdown",
   "id": "tCFsIiM2f0HG",
   "metadata": {
    "id": "tCFsIiM2f0HG"
   },
   "source": [
    "1. Пропущенных значений на весь датасет, всего 3 штуки. На статистику не повлияет, поэтому я все так и оставлю."
   ]
  },
  {
   "cell_type": "code",
   "execution_count": 25,
   "id": "NHqwUDz1fe9j",
   "metadata": {
    "colab": {
     "base_uri": "https://localhost:8080/"
    },
    "id": "NHqwUDz1fe9j",
    "outputId": "bfd883b0-0060-4775-b335-13ad385e6479",
    "ExecuteTime": {
     "end_time": "2023-12-30T12:39:37.945017Z",
     "start_time": "2023-12-30T12:39:37.931174Z"
    }
   },
   "outputs": [
    {
     "data": {
      "text/plain": "track_id            0\nartists             1\nalbum_name          1\ntrack_name          1\npopularity          0\nduration_ms         0\nexplicit            0\ndanceability        0\nenergy              0\nkey                 0\nloudness            0\nmode                0\nspeechiness         0\nacousticness        0\ninstrumentalness    0\nliveness            0\nvalence             0\ntempo               0\ntime_signature      0\ntrack_genre         0\nduration_sec        0\ndtype: int64"
     },
     "execution_count": 25,
     "metadata": {},
     "output_type": "execute_result"
    }
   ],
   "source": [
    "df.isna().sum()"
   ]
  },
  {
   "cell_type": "markdown",
   "id": "NCDNwbENjFoo",
   "metadata": {
    "id": "NCDNwbENjFoo"
   },
   "source": [
    "2. Уникальные значения, их количество для категориальных переменных и гистограммы для некоторых числовых значений."
   ]
  },
  {
   "cell_type": "markdown",
   "id": "FF2WRQwFuNVD",
   "metadata": {
    "id": "FF2WRQwFuNVD"
   },
   "source": [
    "Уникальные значения для столбца артисты"
   ]
  },
  {
   "cell_type": "code",
   "execution_count": 24,
   "id": "NoOdJ-6YgDrd",
   "metadata": {
    "colab": {
     "base_uri": "https://localhost:8080/"
    },
    "id": "NoOdJ-6YgDrd",
    "outputId": "8e150ba3-88aa-419a-f417-1b0d1729dfef",
    "ExecuteTime": {
     "end_time": "2023-12-30T12:39:32.961536Z",
     "start_time": "2023-12-30T12:39:32.933692Z"
    }
   },
   "outputs": [
    {
     "data": {
      "text/plain": "array(['Gen Hoshino', 'Ben Woodward', 'Ingrid Michaelson;ZAYN', ...,\n       'Cuencos Tibetanos Sonidos Relajantes',\n       'Bryan & Katie Torwalt;Brock Human', 'Jesus Culture'], dtype=object)"
     },
     "execution_count": 24,
     "metadata": {},
     "output_type": "execute_result"
    }
   ],
   "source": [
    "df.artists.unique()"
   ]
  },
  {
   "cell_type": "markdown",
   "id": "ZLed0nHYuHKf",
   "metadata": {
    "id": "ZLed0nHYuHKf"
   },
   "source": [
    "Количество всех уникальных значений в датафрейме"
   ]
  },
  {
   "cell_type": "code",
   "execution_count": 23,
   "id": "5hYhJf5NhfKr",
   "metadata": {
    "colab": {
     "base_uri": "https://localhost:8080/"
    },
    "id": "5hYhJf5NhfKr",
    "outputId": "389a45a5-7fa4-4386-bc29-13e59a39c3ac",
    "ExecuteTime": {
     "end_time": "2023-12-30T12:39:30.726277Z",
     "start_time": "2023-12-30T12:39:30.672625Z"
    }
   },
   "outputs": [
    {
     "data": {
      "text/plain": "track_id            89741\nartists             31437\nalbum_name          46589\ntrack_name          73608\npopularity            101\nduration_ms         50697\nexplicit                2\ndanceability         1174\nenergy               2083\nkey                    12\nloudness            19480\nmode                    2\nspeechiness          1489\nacousticness         5061\ninstrumentalness     5346\nliveness             1722\nvalence              1790\ntempo               45653\ntime_signature          5\ntrack_genre           114\nduration_sec        50697\ndtype: int64"
     },
     "execution_count": 23,
     "metadata": {},
     "output_type": "execute_result"
    }
   ],
   "source": [
    "df.nunique()"
   ]
  },
  {
   "cell_type": "markdown",
   "id": "_GApwpNwuEwx",
   "metadata": {
    "id": "_GApwpNwuEwx"
   },
   "source": [
    "Гистограмма по популярности"
   ]
  },
  {
   "cell_type": "code",
   "execution_count": 22,
   "id": "PAoFcGbchzEH",
   "metadata": {
    "colab": {
     "base_uri": "https://localhost:8080/",
     "height": 470
    },
    "id": "PAoFcGbchzEH",
    "outputId": "04b582d3-3a11-437d-b5d8-548e673dcb49",
    "ExecuteTime": {
     "end_time": "2023-12-30T12:39:26.953637Z",
     "start_time": "2023-12-30T12:39:26.855689Z"
    }
   },
   "outputs": [
    {
     "data": {
      "text/plain": "array([[<Axes: title={'center': 'popularity'}>]], dtype=object)"
     },
     "execution_count": 22,
     "metadata": {},
     "output_type": "execute_result"
    },
    {
     "data": {
      "text/plain": "<Figure size 640x480 with 1 Axes>",
      "image/png": "[encoded data removed]"
     },
     "metadata": {},
     "output_type": "display_data"
    }
   ],
   "source": [
    "df.hist('popularity')"
   ]
  },
  {
   "cell_type": "markdown",
   "id": "wS7yi2h0uCgN",
   "metadata": {
    "id": "wS7yi2h0uCgN"
   },
   "source": [
    "Гистограмма по длительности в сек"
   ]
  },
  {
   "cell_type": "code",
   "execution_count": 21,
   "id": "c8d4888f3cf6a7c3",
   "metadata": {
    "collapsed": false,
    "ExecuteTime": {
     "end_time": "2023-12-30T12:39:24.686383Z",
     "start_time": "2023-12-30T12:39:24.589246Z"
    }
   },
   "outputs": [
    {
     "data": {
      "text/plain": "<Axes: >"
     },
     "execution_count": 21,
     "metadata": {},
     "output_type": "execute_result"
    },
    {
     "data": {
      "text/plain": "<Figure size 640x480 with 1 Axes>",
      "image/png": "[encoded data removed]"
     },
     "metadata": {},
     "output_type": "display_data"
    }
   ],
   "source": [
    "df.boxplot('duration_sec')"
   ]
  },
  {
   "cell_type": "code",
   "execution_count": 19,
   "id": "125d41ecd9f90f97",
   "metadata": {
    "ExecuteTime": {
     "end_time": "2023-12-30T10:27:58.243455Z",
     "start_time": "2023-12-30T10:27:58.229176Z"
    },
    "collapsed": false
   },
   "outputs": [
    {
     "data": {
      "text/plain": [
       "count    113550.000000\n",
       "mean        228.079362\n",
       "std         106.414783\n",
       "min           0.000000\n",
       "25%         174.180250\n",
       "50%         213.000000\n",
       "75%         261.587750\n",
       "max        5237.295000\n",
       "Name: duration_sec, dtype: float64"
      ]
     },
     "execution_count": 19,
     "metadata": {},
     "output_type": "execute_result"
    }
   ],
   "source": [
    "df['duration_sec'].describe()"
   ]
  },
  {
   "cell_type": "code",
   "execution_count": 20,
   "id": "f69174b1-5b6a-4b01-898a-649da7e79fcd",
   "metadata": {
    "ExecuteTime": {
     "end_time": "2023-12-30T12:39:11.451700Z",
     "start_time": "2023-12-30T12:39:10.670296Z"
    }
   },
   "outputs": [
    {
     "data": {
      "text/plain": "<seaborn.axisgrid.FacetGrid at 0x13dc03c40>"
     },
     "execution_count": 20,
     "metadata": {},
     "output_type": "execute_result"
    },
    {
     "data": {
      "text/plain": "<Figure size 500x500 with 1 Axes>",
      "image/png": "[encoded data removed]"
     },
     "metadata": {},
     "output_type": "display_data"
    }
   ],
   "source": [
    "sns.displot(df['duration_sec'].dropna())"
   ]
  },
  {
   "cell_type": "markdown",
   "id": "FSEmu2oTuAih",
   "metadata": {
    "id": "FSEmu2oTuAih"
   },
   "source": [
    "Гистограмма по темпу"
   ]
  },
  {
   "cell_type": "code",
   "execution_count": 16,
   "id": "nyl4S9kwi4P0",
   "metadata": {
    "colab": {
     "base_uri": "https://localhost:8080/",
     "height": 470
    },
    "id": "nyl4S9kwi4P0",
    "outputId": "7202f9c3-be3b-4daa-dabe-17764c86510d",
    "ExecuteTime": {
     "end_time": "2023-12-30T12:38:49.744057Z",
     "start_time": "2023-12-30T12:38:49.618078Z"
    }
   },
   "outputs": [
    {
     "data": {
      "text/plain": "array([[<Axes: title={'center': 'tempo'}>]], dtype=object)"
     },
     "execution_count": 16,
     "metadata": {},
     "output_type": "execute_result"
    },
    {
     "data": {
      "text/plain": "<Figure size 640x480 with 1 Axes>",
      "image/png": "[encoded data removed]"
     },
     "metadata": {},
     "output_type": "display_data"
    }
   ],
   "source": [
    "df.hist(column='tempo')"
   ]
  },
  {
   "cell_type": "markdown",
   "id": "6Ral__-_jTmq",
   "metadata": {
    "id": "6Ral__-_jTmq"
   },
   "source": [
    "3. 5 различных селектов из датасета"
   ]
  },
  {
   "cell_type": "code",
   "execution_count": 15,
   "id": "KrD-7VlGjAq6",
   "metadata": {
    "colab": {
     "base_uri": "https://localhost:8080/",
     "height": 721
    },
    "id": "KrD-7VlGjAq6",
    "outputId": "510917c9-3b3b-4029-f073-9a8960d777c2",
    "ExecuteTime": {
     "end_time": "2023-12-30T12:38:46.816189Z",
     "start_time": "2023-12-30T12:38:46.795998Z"
    }
   },
   "outputs": [
    {
     "data": {
      "text/plain": "                      track_id                 artists  \\\n0       5SuOikwiRyPMVoIQDJUgSV             Gen Hoshino   \n1       4qPNDBW1i3p13qLCt0Ki3A            Ben Woodward   \n2       1iJBSr7s7jYXzM8EGcbK5b  Ingrid Michaelson;ZAYN   \n3       6lfxq3CG4xtTiEg7opyCyx            Kina Grannis   \n4       5vjLSffimiIP26QG5WcN2K        Chord Overstreet   \n...                        ...                     ...   \n113995  2C3TZjDRiAzdyViavDJ217           Rainy Lullaby   \n113996  1hIz5L4IB9hN3WRYPOCGPw           Rainy Lullaby   \n113997  6x8ZfSoqDjuNa5SVP5QjvX           Cesária Evora   \n113998  2e6sXL2bYv4bSz6VTdnfLs        Michael W. Smith   \n113999  2hETkH7cOfqmz3LqZDHZf5           Cesária Evora   \n\n                                               album_name  \\\n0                                                  Comedy   \n1                                        Ghost (Acoustic)   \n2                                          To Begin Again   \n3       Crazy Rich Asians (Original Motion Picture Sou...   \n4                                                 Hold On   \n...                                                   ...   \n113995  #mindfulness - Soft Rain for Mindful Meditatio...   \n113996  #mindfulness - Soft Rain for Mindful Meditatio...   \n113997                                            Best Of   \n113998                                  Change Your World   \n113999                                     Miss Perfumado   \n\n                        track_name  popularity  duration_ms  explicit  \\\n0                           Comedy          73       230666     False   \n1                 Ghost - Acoustic          55       149610     False   \n2                   To Begin Again          57       210826     False   \n3       Can't Help Falling In Love          71       201933     False   \n4                          Hold On          82       198853     False   \n...                            ...         ...          ...       ...   \n113995         Sleep My Little Boy          21       384999     False   \n113996            Water Into Light          22       385000     False   \n113997              Miss Perfumado          22       271466     False   \n113998                     Friends          41       283893     False   \n113999                   Barbincor          22       241826     False   \n\n        danceability  energy  key  loudness  mode  speechiness  acousticness  \\\n0              0.676  0.4610    1    -6.746     0       0.1430        0.0322   \n1              0.420  0.1660    1   -17.235     1       0.0763        0.9240   \n2              0.438  0.3590    0    -9.734     1       0.0557        0.2100   \n3              0.266  0.0596    0   -18.515     1       0.0363        0.9050   \n4              0.618  0.4430    2    -9.681     1       0.0526        0.4690   \n...              ...     ...  ...       ...   ...          ...           ...   \n113995         0.172  0.2350    5   -16.393     1       0.0422        0.6400   \n113996         0.174  0.1170    0   -18.318     0       0.0401        0.9940   \n113997         0.629  0.3290    0   -10.895     0       0.0420        0.8670   \n113998         0.587  0.5060    7   -10.889     1       0.0297        0.3810   \n113999         0.526  0.4870    1   -10.204     0       0.0725        0.6810   \n\n        instrumentalness  liveness  valence    tempo  time_signature  \\\n0               0.000001    0.3580   0.7150   87.917               4   \n1               0.000006    0.1010   0.2670   77.489               4   \n2               0.000000    0.1170   0.1200   76.332               4   \n3               0.000071    0.1320   0.1430  181.740               3   \n4               0.000000    0.0829   0.1670  119.949               4   \n...                  ...       ...      ...      ...             ...   \n113995          0.928000    0.0863   0.0339  125.995               5   \n113996          0.976000    0.1050   0.0350   85.239               4   \n113997          0.000000    0.0839   0.7430  132.378               4   \n113998          0.000000    0.2700   0.4130  135.960               4   \n113999          0.000000    0.0893   0.7080   79.198               4   \n\n        track_genre  \n0          acoustic  \n1          acoustic  \n2          acoustic  \n3          acoustic  \n4          acoustic  \n...             ...  \n113995  world-music  \n113996  world-music  \n113997  world-music  \n113998  world-music  \n113999  world-music  \n\n[113550 rows x 20 columns]",
      "text/html": "<div>\n<style scoped>\n    .dataframe tbody tr th:only-of-type {\n        vertical-align: middle;\n    }\n\n    .dataframe tbody tr th {\n        vertical-align: top;\n    }\n\n    .dataframe thead th {\n        text-align: right;\n    }\n</style>\n<table border=\"1\" class=\"dataframe\">\n  <thead>\n    <tr style=\"text-align: right;\">\n      <th></th>\n      <th>track_id</th>\n      <th>artists</th>\n      <th>album_name</th>\n      <th>track_name</th>\n      <th>popularity</th>\n      <th>duration_ms</th>\n      <th>explicit</th>\n      <th>danceability</th>\n      <th>energy</th>\n      <th>key</th>\n      <th>loudness</th>\n      <th>mode</th>\n      <th>speechiness</th>\n      <th>acousticness</th>\n      <th>instrumentalness</th>\n      <th>liveness</th>\n      <th>valence</th>\n      <th>tempo</th>\n      <th>time_signature</th>\n      <th>track_genre</th>\n    </tr>\n  </thead>\n  <tbody>\n    <tr>\n      <th>0</th>\n      <td>5SuOikwiRyPMVoIQDJUgSV</td>\n      <td>Gen Hoshino</td>\n      <td>Comedy</td>\n      <td>Comedy</td>\n      <td>73</td>\n      <td>230666</td>\n      <td>False</td>\n      <td>0.676</td>\n      <td>0.4610</td>\n      <td>1</td>\n      <td>-6.746</td>\n      <td>0</td>\n      <td>0.1430</td>\n      <td>0.0322</td>\n      <td>0.000001</td>\n      <td>0.3580</td>\n      <td>0.7150</td>\n      <td>87.917</td>\n      <td>4</td>\n      <td>acoustic</td>\n    </tr>\n    <tr>\n      <th>1</th>\n      <td>4qPNDBW1i3p13qLCt0Ki3A</td>\n      <td>Ben Woodward</td>\n      <td>Ghost (Acoustic)</td>\n      <td>Ghost - Acoustic</td>\n      <td>55</td>\n      <td>149610</td>\n      <td>False</td>\n      <td>0.420</td>\n      <td>0.1660</td>\n      <td>1</td>\n      <td>-17.235</td>\n      <td>1</td>\n      <td>0.0763</td>\n      <td>0.9240</td>\n      <td>0.000006</td>\n      <td>0.1010</td>\n      <td>0.2670</td>\n      <td>77.489</td>\n      <td>4</td>\n      <td>acoustic</td>\n    </tr>\n    <tr>\n      <th>2</th>\n      <td>1iJBSr7s7jYXzM8EGcbK5b</td>\n      <td>Ingrid Michaelson;ZAYN</td>\n      <td>To Begin Again</td>\n      <td>To Begin Again</td>\n      <td>57</td>\n      <td>210826</td>\n      <td>False</td>\n      <td>0.438</td>\n      <td>0.3590</td>\n      <td>0</td>\n      <td>-9.734</td>\n      <td>1</td>\n      <td>0.0557</td>\n      <td>0.2100</td>\n      <td>0.000000</td>\n      <td>0.1170</td>\n      <td>0.1200</td>\n      <td>76.332</td>\n      <td>4</td>\n      <td>acoustic</td>\n    </tr>\n    <tr>\n      <th>3</th>\n      <td>6lfxq3CG4xtTiEg7opyCyx</td>\n      <td>Kina Grannis</td>\n      <td>Crazy Rich Asians (Original Motion Picture Sou...</td>\n      <td>Can't Help Falling In Love</td>\n      <td>71</td>\n      <td>201933</td>\n      <td>False</td>\n      <td>0.266</td>\n      <td>0.0596</td>\n      <td>0</td>\n      <td>-18.515</td>\n      <td>1</td>\n      <td>0.0363</td>\n      <td>0.9050</td>\n      <td>0.000071</td>\n      <td>0.1320</td>\n      <td>0.1430</td>\n      <td>181.740</td>\n      <td>3</td>\n      <td>acoustic</td>\n    </tr>\n    <tr>\n      <th>4</th>\n      <td>5vjLSffimiIP26QG5WcN2K</td>\n      <td>Chord Overstreet</td>\n      <td>Hold On</td>\n      <td>Hold On</td>\n      <td>82</td>\n      <td>198853</td>\n      <td>False</td>\n      <td>0.618</td>\n      <td>0.4430</td>\n      <td>2</td>\n      <td>-9.681</td>\n      <td>1</td>\n      <td>0.0526</td>\n      <td>0.4690</td>\n      <td>0.000000</td>\n      <td>0.0829</td>\n      <td>0.1670</td>\n      <td>119.949</td>\n      <td>4</td>\n      <td>acoustic</td>\n    </tr>\n    <tr>\n      <th>...</th>\n      <td>...</td>\n      <td>...</td>\n      <td>...</td>\n      <td>...</td>\n      <td>...</td>\n      <td>...</td>\n      <td>...</td>\n      <td>...</td>\n      <td>...</td>\n      <td>...</td>\n      <td>...</td>\n      <td>...</td>\n      <td>...</td>\n      <td>...</td>\n      <td>...</td>\n      <td>...</td>\n      <td>...</td>\n      <td>...</td>\n      <td>...</td>\n      <td>...</td>\n    </tr>\n    <tr>\n      <th>113995</th>\n      <td>2C3TZjDRiAzdyViavDJ217</td>\n      <td>Rainy Lullaby</td>\n      <td>#mindfulness - Soft Rain for Mindful Meditatio...</td>\n      <td>Sleep My Little Boy</td>\n      <td>21</td>\n      <td>384999</td>\n      <td>False</td>\n      <td>0.172</td>\n      <td>0.2350</td>\n      <td>5</td>\n      <td>-16.393</td>\n      <td>1</td>\n      <td>0.0422</td>\n      <td>0.6400</td>\n      <td>0.928000</td>\n      <td>0.0863</td>\n      <td>0.0339</td>\n      <td>125.995</td>\n      <td>5</td>\n      <td>world-music</td>\n    </tr>\n    <tr>\n      <th>113996</th>\n      <td>1hIz5L4IB9hN3WRYPOCGPw</td>\n      <td>Rainy Lullaby</td>\n      <td>#mindfulness - Soft Rain for Mindful Meditatio...</td>\n      <td>Water Into Light</td>\n      <td>22</td>\n      <td>385000</td>\n      <td>False</td>\n      <td>0.174</td>\n      <td>0.1170</td>\n      <td>0</td>\n      <td>-18.318</td>\n      <td>0</td>\n      <td>0.0401</td>\n      <td>0.9940</td>\n      <td>0.976000</td>\n      <td>0.1050</td>\n      <td>0.0350</td>\n      <td>85.239</td>\n      <td>4</td>\n      <td>world-music</td>\n    </tr>\n    <tr>\n      <th>113997</th>\n      <td>6x8ZfSoqDjuNa5SVP5QjvX</td>\n      <td>Cesária Evora</td>\n      <td>Best Of</td>\n      <td>Miss Perfumado</td>\n      <td>22</td>\n      <td>271466</td>\n      <td>False</td>\n      <td>0.629</td>\n      <td>0.3290</td>\n      <td>0</td>\n      <td>-10.895</td>\n      <td>0</td>\n      <td>0.0420</td>\n      <td>0.8670</td>\n      <td>0.000000</td>\n      <td>0.0839</td>\n      <td>0.7430</td>\n      <td>132.378</td>\n      <td>4</td>\n      <td>world-music</td>\n    </tr>\n    <tr>\n      <th>113998</th>\n      <td>2e6sXL2bYv4bSz6VTdnfLs</td>\n      <td>Michael W. Smith</td>\n      <td>Change Your World</td>\n      <td>Friends</td>\n      <td>41</td>\n      <td>283893</td>\n      <td>False</td>\n      <td>0.587</td>\n      <td>0.5060</td>\n      <td>7</td>\n      <td>-10.889</td>\n      <td>1</td>\n      <td>0.0297</td>\n      <td>0.3810</td>\n      <td>0.000000</td>\n      <td>0.2700</td>\n      <td>0.4130</td>\n      <td>135.960</td>\n      <td>4</td>\n      <td>world-music</td>\n    </tr>\n    <tr>\n      <th>113999</th>\n      <td>2hETkH7cOfqmz3LqZDHZf5</td>\n      <td>Cesária Evora</td>\n      <td>Miss Perfumado</td>\n      <td>Barbincor</td>\n      <td>22</td>\n      <td>241826</td>\n      <td>False</td>\n      <td>0.526</td>\n      <td>0.4870</td>\n      <td>1</td>\n      <td>-10.204</td>\n      <td>0</td>\n      <td>0.0725</td>\n      <td>0.6810</td>\n      <td>0.000000</td>\n      <td>0.0893</td>\n      <td>0.7080</td>\n      <td>79.198</td>\n      <td>4</td>\n      <td>world-music</td>\n    </tr>\n  </tbody>\n</table>\n<p>113550 rows × 20 columns</p>\n</div>"
     },
     "execution_count": 15,
     "metadata": {},
     "output_type": "execute_result"
    }
   ],
   "source": [
    "df"
   ]
  },
  {
   "cell_type": "markdown",
   "id": "UsrTEndrlJAe",
   "metadata": {
    "id": "UsrTEndrlJAe"
   },
   "source": [
    "Здесь мы сделали select, выбрав только 4 столбца и вывели их."
   ]
  },
  {
   "cell_type": "code",
   "execution_count": 27,
   "id": "W175--qTj6ku",
   "metadata": {
    "colab": {
     "base_uri": "https://localhost:8080/",
     "height": 423
    },
    "id": "W175--qTj6ku",
    "outputId": "88d722e4-64e3-4c71-d099-5d78aca8f977",
    "ExecuteTime": {
     "end_time": "2023-12-30T12:40:02.594914Z",
     "start_time": "2023-12-30T12:40:02.567200Z"
    }
   },
   "outputs": [
    {
     "data": {
      "text/plain": "                       artists                  track_name  popularity  \\\n0                  Gen Hoshino                      Comedy          73   \n1                 Ben Woodward            Ghost - Acoustic          55   \n2       Ingrid Michaelson;ZAYN              To Begin Again          57   \n3                 Kina Grannis  Can't Help Falling In Love          71   \n4             Chord Overstreet                     Hold On          82   \n...                        ...                         ...         ...   \n113995           Rainy Lullaby         Sleep My Little Boy          21   \n113996           Rainy Lullaby            Water Into Light          22   \n113997           Cesária Evora              Miss Perfumado          22   \n113998        Michael W. Smith                     Friends          41   \n113999           Cesária Evora                   Barbincor          22   \n\n        track_genre  \n0          acoustic  \n1          acoustic  \n2          acoustic  \n3          acoustic  \n4          acoustic  \n...             ...  \n113995  world-music  \n113996  world-music  \n113997  world-music  \n113998  world-music  \n113999  world-music  \n\n[113550 rows x 4 columns]",
      "text/html": "<div>\n<style scoped>\n    .dataframe tbody tr th:only-of-type {\n        vertical-align: middle;\n    }\n\n    .dataframe tbody tr th {\n        vertical-align: top;\n    }\n\n    .dataframe thead th {\n        text-align: right;\n    }\n</style>\n<table border=\"1\" class=\"dataframe\">\n  <thead>\n    <tr style=\"text-align: right;\">\n      <th></th>\n      <th>artists</th>\n      <th>track_name</th>\n      <th>popularity</th>\n      <th>track_genre</th>\n    </tr>\n  </thead>\n  <tbody>\n    <tr>\n      <th>0</th>\n      <td>Gen Hoshino</td>\n      <td>Comedy</td>\n      <td>73</td>\n      <td>acoustic</td>\n    </tr>\n    <tr>\n      <th>1</th>\n      <td>Ben Woodward</td>\n      <td>Ghost - Acoustic</td>\n      <td>55</td>\n      <td>acoustic</td>\n    </tr>\n    <tr>\n      <th>2</th>\n      <td>Ingrid Michaelson;ZAYN</td>\n      <td>To Begin Again</td>\n      <td>57</td>\n      <td>acoustic</td>\n    </tr>\n    <tr>\n      <th>3</th>\n      <td>Kina Grannis</td>\n      <td>Can't Help Falling In Love</td>\n      <td>71</td>\n      <td>acoustic</td>\n    </tr>\n    <tr>\n      <th>4</th>\n      <td>Chord Overstreet</td>\n      <td>Hold On</td>\n      <td>82</td>\n      <td>acoustic</td>\n    </tr>\n    <tr>\n      <th>...</th>\n      <td>...</td>\n      <td>...</td>\n      <td>...</td>\n      <td>...</td>\n    </tr>\n    <tr>\n      <th>113995</th>\n      <td>Rainy Lullaby</td>\n      <td>Sleep My Little Boy</td>\n      <td>21</td>\n      <td>world-music</td>\n    </tr>\n    <tr>\n      <th>113996</th>\n      <td>Rainy Lullaby</td>\n      <td>Water Into Light</td>\n      <td>22</td>\n      <td>world-music</td>\n    </tr>\n    <tr>\n      <th>113997</th>\n      <td>Cesária Evora</td>\n      <td>Miss Perfumado</td>\n      <td>22</td>\n      <td>world-music</td>\n    </tr>\n    <tr>\n      <th>113998</th>\n      <td>Michael W. Smith</td>\n      <td>Friends</td>\n      <td>41</td>\n      <td>world-music</td>\n    </tr>\n    <tr>\n      <th>113999</th>\n      <td>Cesária Evora</td>\n      <td>Barbincor</td>\n      <td>22</td>\n      <td>world-music</td>\n    </tr>\n  </tbody>\n</table>\n<p>113550 rows × 4 columns</p>\n</div>"
     },
     "execution_count": 27,
     "metadata": {},
     "output_type": "execute_result"
    }
   ],
   "source": [
    "df[[\"artists\", \"track_name\", \"popularity\", \"track_genre\"]]"
   ]
  },
  {
   "cell_type": "markdown",
   "id": "C0BGrL8ylGlR",
   "metadata": {
    "id": "C0BGrL8ylGlR"
   },
   "source": [
    "Здесь мы отобразили все столбцы датафрейма и при этом добавили столбец где длительность трека указана в секундах"
   ]
  },
  {
   "cell_type": "code",
   "execution_count": 19,
   "id": "5gSTDTRwkR_Q",
   "metadata": {
    "colab": {
     "base_uri": "https://localhost:8080/",
     "height": 721
    },
    "id": "5gSTDTRwkR_Q",
    "outputId": "2e6b8ade-a709-4789-d8b8-67cd7fa5a368",
    "ExecuteTime": {
     "end_time": "2023-12-30T12:39:07.137900Z",
     "start_time": "2023-12-30T12:39:07.087365Z"
    }
   },
   "outputs": [
    {
     "data": {
      "text/plain": "                      track_id                 artists  \\\n0       5SuOikwiRyPMVoIQDJUgSV             Gen Hoshino   \n1       4qPNDBW1i3p13qLCt0Ki3A            Ben Woodward   \n2       1iJBSr7s7jYXzM8EGcbK5b  Ingrid Michaelson;ZAYN   \n3       6lfxq3CG4xtTiEg7opyCyx            Kina Grannis   \n4       5vjLSffimiIP26QG5WcN2K        Chord Overstreet   \n...                        ...                     ...   \n113995  2C3TZjDRiAzdyViavDJ217           Rainy Lullaby   \n113996  1hIz5L4IB9hN3WRYPOCGPw           Rainy Lullaby   \n113997  6x8ZfSoqDjuNa5SVP5QjvX           Cesária Evora   \n113998  2e6sXL2bYv4bSz6VTdnfLs        Michael W. Smith   \n113999  2hETkH7cOfqmz3LqZDHZf5           Cesária Evora   \n\n                                               album_name  \\\n0                                                  Comedy   \n1                                        Ghost (Acoustic)   \n2                                          To Begin Again   \n3       Crazy Rich Asians (Original Motion Picture Sou...   \n4                                                 Hold On   \n...                                                   ...   \n113995  #mindfulness - Soft Rain for Mindful Meditatio...   \n113996  #mindfulness - Soft Rain for Mindful Meditatio...   \n113997                                            Best Of   \n113998                                  Change Your World   \n113999                                     Miss Perfumado   \n\n                        track_name  popularity  duration_ms  explicit  \\\n0                           Comedy          73       230666     False   \n1                 Ghost - Acoustic          55       149610     False   \n2                   To Begin Again          57       210826     False   \n3       Can't Help Falling In Love          71       201933     False   \n4                          Hold On          82       198853     False   \n...                            ...         ...          ...       ...   \n113995         Sleep My Little Boy          21       384999     False   \n113996            Water Into Light          22       385000     False   \n113997              Miss Perfumado          22       271466     False   \n113998                     Friends          41       283893     False   \n113999                   Barbincor          22       241826     False   \n\n        danceability  energy  key  ...  mode  speechiness  acousticness  \\\n0              0.676  0.4610    1  ...     0       0.1430        0.0322   \n1              0.420  0.1660    1  ...     1       0.0763        0.9240   \n2              0.438  0.3590    0  ...     1       0.0557        0.2100   \n3              0.266  0.0596    0  ...     1       0.0363        0.9050   \n4              0.618  0.4430    2  ...     1       0.0526        0.4690   \n...              ...     ...  ...  ...   ...          ...           ...   \n113995         0.172  0.2350    5  ...     1       0.0422        0.6400   \n113996         0.174  0.1170    0  ...     0       0.0401        0.9940   \n113997         0.629  0.3290    0  ...     0       0.0420        0.8670   \n113998         0.587  0.5060    7  ...     1       0.0297        0.3810   \n113999         0.526  0.4870    1  ...     0       0.0725        0.6810   \n\n        instrumentalness  liveness  valence    tempo  time_signature  \\\n0               0.000001    0.3580   0.7150   87.917               4   \n1               0.000006    0.1010   0.2670   77.489               4   \n2               0.000000    0.1170   0.1200   76.332               4   \n3               0.000071    0.1320   0.1430  181.740               3   \n4               0.000000    0.0829   0.1670  119.949               4   \n...                  ...       ...      ...      ...             ...   \n113995          0.928000    0.0863   0.0339  125.995               5   \n113996          0.976000    0.1050   0.0350   85.239               4   \n113997          0.000000    0.0839   0.7430  132.378               4   \n113998          0.000000    0.2700   0.4130  135.960               4   \n113999          0.000000    0.0893   0.7080   79.198               4   \n\n        track_genre duration_sec  \n0          acoustic      230.666  \n1          acoustic      149.610  \n2          acoustic      210.826  \n3          acoustic      201.933  \n4          acoustic      198.853  \n...             ...          ...  \n113995  world-music      384.999  \n113996  world-music      385.000  \n113997  world-music      271.466  \n113998  world-music      283.893  \n113999  world-music      241.826  \n\n[113550 rows x 21 columns]",
      "text/html": "<div>\n<style scoped>\n    .dataframe tbody tr th:only-of-type {\n        vertical-align: middle;\n    }\n\n    .dataframe tbody tr th {\n        vertical-align: top;\n    }\n\n    .dataframe thead th {\n        text-align: right;\n    }\n</style>\n<table border=\"1\" class=\"dataframe\">\n  <thead>\n    <tr style=\"text-align: right;\">\n      <th></th>\n      <th>track_id</th>\n      <th>artists</th>\n      <th>album_name</th>\n      <th>track_name</th>\n      <th>popularity</th>\n      <th>duration_ms</th>\n      <th>explicit</th>\n      <th>danceability</th>\n      <th>energy</th>\n      <th>key</th>\n      <th>...</th>\n      <th>mode</th>\n      <th>speechiness</th>\n      <th>acousticness</th>\n      <th>instrumentalness</th>\n      <th>liveness</th>\n      <th>valence</th>\n      <th>tempo</th>\n      <th>time_signature</th>\n      <th>track_genre</th>\n      <th>duration_sec</th>\n    </tr>\n  </thead>\n  <tbody>\n    <tr>\n      <th>0</th>\n      <td>5SuOikwiRyPMVoIQDJUgSV</td>\n      <td>Gen Hoshino</td>\n      <td>Comedy</td>\n      <td>Comedy</td>\n      <td>73</td>\n      <td>230666</td>\n      <td>False</td>\n      <td>0.676</td>\n      <td>0.4610</td>\n      <td>1</td>\n      <td>...</td>\n      <td>0</td>\n      <td>0.1430</td>\n      <td>0.0322</td>\n      <td>0.000001</td>\n      <td>0.3580</td>\n      <td>0.7150</td>\n      <td>87.917</td>\n      <td>4</td>\n      <td>acoustic</td>\n      <td>230.666</td>\n    </tr>\n    <tr>\n      <th>1</th>\n      <td>4qPNDBW1i3p13qLCt0Ki3A</td>\n      <td>Ben Woodward</td>\n      <td>Ghost (Acoustic)</td>\n      <td>Ghost - Acoustic</td>\n      <td>55</td>\n      <td>149610</td>\n      <td>False</td>\n      <td>0.420</td>\n      <td>0.1660</td>\n      <td>1</td>\n      <td>...</td>\n      <td>1</td>\n      <td>0.0763</td>\n      <td>0.9240</td>\n      <td>0.000006</td>\n      <td>0.1010</td>\n      <td>0.2670</td>\n      <td>77.489</td>\n      <td>4</td>\n      <td>acoustic</td>\n      <td>149.610</td>\n    </tr>\n    <tr>\n      <th>2</th>\n      <td>1iJBSr7s7jYXzM8EGcbK5b</td>\n      <td>Ingrid Michaelson;ZAYN</td>\n      <td>To Begin Again</td>\n      <td>To Begin Again</td>\n      <td>57</td>\n      <td>210826</td>\n      <td>False</td>\n      <td>0.438</td>\n      <td>0.3590</td>\n      <td>0</td>\n      <td>...</td>\n      <td>1</td>\n      <td>0.0557</td>\n      <td>0.2100</td>\n      <td>0.000000</td>\n      <td>0.1170</td>\n      <td>0.1200</td>\n      <td>76.332</td>\n      <td>4</td>\n      <td>acoustic</td>\n      <td>210.826</td>\n    </tr>\n    <tr>\n      <th>3</th>\n      <td>6lfxq3CG4xtTiEg7opyCyx</td>\n      <td>Kina Grannis</td>\n      <td>Crazy Rich Asians (Original Motion Picture Sou...</td>\n      <td>Can't Help Falling In Love</td>\n      <td>71</td>\n      <td>201933</td>\n      <td>False</td>\n      <td>0.266</td>\n      <td>0.0596</td>\n      <td>0</td>\n      <td>...</td>\n      <td>1</td>\n      <td>0.0363</td>\n      <td>0.9050</td>\n      <td>0.000071</td>\n      <td>0.1320</td>\n      <td>0.1430</td>\n      <td>181.740</td>\n      <td>3</td>\n      <td>acoustic</td>\n      <td>201.933</td>\n    </tr>\n    <tr>\n      <th>4</th>\n      <td>5vjLSffimiIP26QG5WcN2K</td>\n      <td>Chord Overstreet</td>\n      <td>Hold On</td>\n      <td>Hold On</td>\n      <td>82</td>\n      <td>198853</td>\n      <td>False</td>\n      <td>0.618</td>\n      <td>0.4430</td>\n      <td>2</td>\n      <td>...</td>\n      <td>1</td>\n      <td>0.0526</td>\n      <td>0.4690</td>\n      <td>0.000000</td>\n      <td>0.0829</td>\n      <td>0.1670</td>\n      <td>119.949</td>\n      <td>4</td>\n      <td>acoustic</td>\n      <td>198.853</td>\n    </tr>\n    <tr>\n      <th>...</th>\n      <td>...</td>\n      <td>...</td>\n      <td>...</td>\n      <td>...</td>\n      <td>...</td>\n      <td>...</td>\n      <td>...</td>\n      <td>...</td>\n      <td>...</td>\n      <td>...</td>\n      <td>...</td>\n      <td>...</td>\n      <td>...</td>\n      <td>...</td>\n      <td>...</td>\n      <td>...</td>\n      <td>...</td>\n      <td>...</td>\n      <td>...</td>\n      <td>...</td>\n      <td>...</td>\n    </tr>\n    <tr>\n      <th>113995</th>\n      <td>2C3TZjDRiAzdyViavDJ217</td>\n      <td>Rainy Lullaby</td>\n      <td>#mindfulness - Soft Rain for Mindful Meditatio...</td>\n      <td>Sleep My Little Boy</td>\n      <td>21</td>\n      <td>384999</td>\n      <td>False</td>\n      <td>0.172</td>\n      <td>0.2350</td>\n      <td>5</td>\n      <td>...</td>\n      <td>1</td>\n      <td>0.0422</td>\n      <td>0.6400</td>\n      <td>0.928000</td>\n      <td>0.0863</td>\n      <td>0.0339</td>\n      <td>125.995</td>\n      <td>5</td>\n      <td>world-music</td>\n      <td>384.999</td>\n    </tr>\n    <tr>\n      <th>113996</th>\n      <td>1hIz5L4IB9hN3WRYPOCGPw</td>\n      <td>Rainy Lullaby</td>\n      <td>#mindfulness - Soft Rain for Mindful Meditatio...</td>\n      <td>Water Into Light</td>\n      <td>22</td>\n      <td>385000</td>\n      <td>False</td>\n      <td>0.174</td>\n      <td>0.1170</td>\n      <td>0</td>\n      <td>...</td>\n      <td>0</td>\n      <td>0.0401</td>\n      <td>0.9940</td>\n      <td>0.976000</td>\n      <td>0.1050</td>\n      <td>0.0350</td>\n      <td>85.239</td>\n      <td>4</td>\n      <td>world-music</td>\n      <td>385.000</td>\n    </tr>\n    <tr>\n      <th>113997</th>\n      <td>6x8ZfSoqDjuNa5SVP5QjvX</td>\n      <td>Cesária Evora</td>\n      <td>Best Of</td>\n      <td>Miss Perfumado</td>\n      <td>22</td>\n      <td>271466</td>\n      <td>False</td>\n      <td>0.629</td>\n      <td>0.3290</td>\n      <td>0</td>\n      <td>...</td>\n      <td>0</td>\n      <td>0.0420</td>\n      <td>0.8670</td>\n      <td>0.000000</td>\n      <td>0.0839</td>\n      <td>0.7430</td>\n      <td>132.378</td>\n      <td>4</td>\n      <td>world-music</td>\n      <td>271.466</td>\n    </tr>\n    <tr>\n      <th>113998</th>\n      <td>2e6sXL2bYv4bSz6VTdnfLs</td>\n      <td>Michael W. Smith</td>\n      <td>Change Your World</td>\n      <td>Friends</td>\n      <td>41</td>\n      <td>283893</td>\n      <td>False</td>\n      <td>0.587</td>\n      <td>0.5060</td>\n      <td>7</td>\n      <td>...</td>\n      <td>1</td>\n      <td>0.0297</td>\n      <td>0.3810</td>\n      <td>0.000000</td>\n      <td>0.2700</td>\n      <td>0.4130</td>\n      <td>135.960</td>\n      <td>4</td>\n      <td>world-music</td>\n      <td>283.893</td>\n    </tr>\n    <tr>\n      <th>113999</th>\n      <td>2hETkH7cOfqmz3LqZDHZf5</td>\n      <td>Cesária Evora</td>\n      <td>Miss Perfumado</td>\n      <td>Barbincor</td>\n      <td>22</td>\n      <td>241826</td>\n      <td>False</td>\n      <td>0.526</td>\n      <td>0.4870</td>\n      <td>1</td>\n      <td>...</td>\n      <td>0</td>\n      <td>0.0725</td>\n      <td>0.6810</td>\n      <td>0.000000</td>\n      <td>0.0893</td>\n      <td>0.7080</td>\n      <td>79.198</td>\n      <td>4</td>\n      <td>world-music</td>\n      <td>241.826</td>\n    </tr>\n  </tbody>\n</table>\n<p>113550 rows × 21 columns</p>\n</div>"
     },
     "execution_count": 19,
     "metadata": {},
     "output_type": "execute_result"
    }
   ],
   "source": [
    "df = df.assign(duration_sec=df[\"duration_ms\"] / 1000)\n",
    "df"
   ]
  },
  {
   "cell_type": "markdown",
   "id": "9YDPsA1jldit",
   "metadata": {
    "id": "9YDPsA1jldit"
   },
   "source": [
    "Здесь фильтрация по популярности, которая больше 75\n"
   ]
  },
  {
   "cell_type": "code",
   "execution_count": 14,
   "id": "NIAOjC1mld4W",
   "metadata": {
    "colab": {
     "base_uri": "https://localhost:8080/",
     "height": 652
    },
    "id": "NIAOjC1mld4W",
    "outputId": "ba970063-dae4-4a85-9476-998a71edc46c",
    "ExecuteTime": {
     "end_time": "2023-12-30T12:38:43.131620Z",
     "start_time": "2023-12-30T12:38:43.090241Z"
    }
   },
   "outputs": [
    {
     "data": {
      "text/plain": "                      track_id                 artists  \\\n4       5vjLSffimiIP26QG5WcN2K        Chord Overstreet   \n7       1EzrEOXmMH3G43AXT1y7pA              Jason Mraz   \n2000    5E30LdtzQTGqRvNd7l6kG5       The Neighbourhood   \n2001    2Y0iGXY6m6immVb2ktbseM                    MGMT   \n2002    2K7xn816oNHJZ0aVqdQsha       The Neighbourhood   \n...                        ...                     ...   \n110005  18asYwWugKjjsihZ0YvRxO          Tiësto;Ava Max   \n110006  3Z7CaxQkqbIs1rewKi6v4W       Tiësto;Charli XCX   \n110055  2yEHX6MqAXPyD7bm47A2Br  Tiësto;Black Eyed Peas   \n110075  3KruoUtSkm84Az0bJunnxl                  Tiësto   \n112650  10n66m41IGjA2ZulKPK7Ew                Madrigal   \n\n                                             album_name         track_name  \\\n4                                               Hold On            Hold On   \n7                   We Sing. We Dance. We Steal Things.          I'm Yours   \n2000                                         Wiped Out!       Daddy Issues   \n2001                                    Little Dark Age    Little Dark Age   \n2002    Hard To Imagine The Neighbourhood Ever Changing           Softcore   \n...                                                 ...                ...   \n110005                                        The Motto          The Motto   \n110006                                        Hot In It          Hot In It   \n110055                                   Pump It Louder     Pump It Louder   \n110075                                    Baila Conmigo      Baila Conmigo   \n112650                                Seni Dert Etmeler  Seni Dert Etmeler   \n\n        popularity  duration_ms  explicit  danceability  energy  key  \\\n4               82       198853     False         0.618   0.443    2   \n7               80       242946     False         0.703   0.444   11   \n2000            87       260173     False         0.588   0.521   10   \n2001            83       299960     False         0.705   0.712    6   \n2002            86       206280     False         0.575   0.568    9   \n...            ...          ...       ...           ...     ...  ...   \n110005          86       164818     False         0.754   0.763    7   \n110006          84       129817     False         0.748   0.841    7   \n110055          76       158571     False         0.660   0.942    4   \n110075          76       146249     False         0.652   0.855    7   \n112650          77       188500     False         0.552   0.608    5   \n\n        loudness  mode  speechiness  acousticness  instrumentalness  liveness  \\\n4         -9.681     1       0.0526       0.46900          0.000000    0.0829   \n7         -9.331     1       0.0417       0.55900          0.000000    0.0973   \n2000      -9.461     1       0.0329       0.06780          0.149000    0.1230   \n2001      -6.156     1       0.0385       0.01020          0.000855    0.1000   \n2002      -5.509     0       0.0300       0.04840          0.000417    0.2860   \n...          ...   ...          ...           ...               ...       ...   \n110005    -4.627     0       0.0435       0.03010          0.000022    0.0901   \n110006    -5.080     1       0.1770       0.00445          0.000001    0.0413   \n110055    -2.273     1       0.1850       0.00789          0.000018    0.8340   \n110075    -6.411     1       0.0775       0.00658          0.409000    0.3410   \n112650   -11.211     0       0.0274       0.14800          0.000021    0.3320   \n\n        valence    tempo  time_signature track_genre  \n4        0.1670  119.949               4    acoustic  \n7        0.7120  150.960               4    acoustic  \n2000     0.3370   85.012               4    alt-rock  \n2001     0.6200   97.512               4    alt-rock  \n2002     0.3700   93.986               4    alt-rock  \n...         ...      ...             ...         ...  \n110005   0.4640  117.953               4      trance  \n110006   0.7170  123.045               4      trance  \n110055   0.5430  126.017               4      trance  \n110075   0.0834  127.964               4      trance  \n112650   0.8350   88.002               4     turkish  \n\n[2412 rows x 20 columns]",
      "text/html": "<div>\n<style scoped>\n    .dataframe tbody tr th:only-of-type {\n        vertical-align: middle;\n    }\n\n    .dataframe tbody tr th {\n        vertical-align: top;\n    }\n\n    .dataframe thead th {\n        text-align: right;\n    }\n</style>\n<table border=\"1\" class=\"dataframe\">\n  <thead>\n    <tr style=\"text-align: right;\">\n      <th></th>\n      <th>track_id</th>\n      <th>artists</th>\n      <th>album_name</th>\n      <th>track_name</th>\n      <th>popularity</th>\n      <th>duration_ms</th>\n      <th>explicit</th>\n      <th>danceability</th>\n      <th>energy</th>\n      <th>key</th>\n      <th>loudness</th>\n      <th>mode</th>\n      <th>speechiness</th>\n      <th>acousticness</th>\n      <th>instrumentalness</th>\n      <th>liveness</th>\n      <th>valence</th>\n      <th>tempo</th>\n      <th>time_signature</th>\n      <th>track_genre</th>\n    </tr>\n  </thead>\n  <tbody>\n    <tr>\n      <th>4</th>\n      <td>5vjLSffimiIP26QG5WcN2K</td>\n      <td>Chord Overstreet</td>\n      <td>Hold On</td>\n      <td>Hold On</td>\n      <td>82</td>\n      <td>198853</td>\n      <td>False</td>\n      <td>0.618</td>\n      <td>0.443</td>\n      <td>2</td>\n      <td>-9.681</td>\n      <td>1</td>\n      <td>0.0526</td>\n      <td>0.46900</td>\n      <td>0.000000</td>\n      <td>0.0829</td>\n      <td>0.1670</td>\n      <td>119.949</td>\n      <td>4</td>\n      <td>acoustic</td>\n    </tr>\n    <tr>\n      <th>7</th>\n      <td>1EzrEOXmMH3G43AXT1y7pA</td>\n      <td>Jason Mraz</td>\n      <td>We Sing. We Dance. We Steal Things.</td>\n      <td>I'm Yours</td>\n      <td>80</td>\n      <td>242946</td>\n      <td>False</td>\n      <td>0.703</td>\n      <td>0.444</td>\n      <td>11</td>\n      <td>-9.331</td>\n      <td>1</td>\n      <td>0.0417</td>\n      <td>0.55900</td>\n      <td>0.000000</td>\n      <td>0.0973</td>\n      <td>0.7120</td>\n      <td>150.960</td>\n      <td>4</td>\n      <td>acoustic</td>\n    </tr>\n    <tr>\n      <th>2000</th>\n      <td>5E30LdtzQTGqRvNd7l6kG5</td>\n      <td>The Neighbourhood</td>\n      <td>Wiped Out!</td>\n      <td>Daddy Issues</td>\n      <td>87</td>\n      <td>260173</td>\n      <td>False</td>\n      <td>0.588</td>\n      <td>0.521</td>\n      <td>10</td>\n      <td>-9.461</td>\n      <td>1</td>\n      <td>0.0329</td>\n      <td>0.06780</td>\n      <td>0.149000</td>\n      <td>0.1230</td>\n      <td>0.3370</td>\n      <td>85.012</td>\n      <td>4</td>\n      <td>alt-rock</td>\n    </tr>\n    <tr>\n      <th>2001</th>\n      <td>2Y0iGXY6m6immVb2ktbseM</td>\n      <td>MGMT</td>\n      <td>Little Dark Age</td>\n      <td>Little Dark Age</td>\n      <td>83</td>\n      <td>299960</td>\n      <td>False</td>\n      <td>0.705</td>\n      <td>0.712</td>\n      <td>6</td>\n      <td>-6.156</td>\n      <td>1</td>\n      <td>0.0385</td>\n      <td>0.01020</td>\n      <td>0.000855</td>\n      <td>0.1000</td>\n      <td>0.6200</td>\n      <td>97.512</td>\n      <td>4</td>\n      <td>alt-rock</td>\n    </tr>\n    <tr>\n      <th>2002</th>\n      <td>2K7xn816oNHJZ0aVqdQsha</td>\n      <td>The Neighbourhood</td>\n      <td>Hard To Imagine The Neighbourhood Ever Changing</td>\n      <td>Softcore</td>\n      <td>86</td>\n      <td>206280</td>\n      <td>False</td>\n      <td>0.575</td>\n      <td>0.568</td>\n      <td>9</td>\n      <td>-5.509</td>\n      <td>0</td>\n      <td>0.0300</td>\n      <td>0.04840</td>\n      <td>0.000417</td>\n      <td>0.2860</td>\n      <td>0.3700</td>\n      <td>93.986</td>\n      <td>4</td>\n      <td>alt-rock</td>\n    </tr>\n    <tr>\n      <th>...</th>\n      <td>...</td>\n      <td>...</td>\n      <td>...</td>\n      <td>...</td>\n      <td>...</td>\n      <td>...</td>\n      <td>...</td>\n      <td>...</td>\n      <td>...</td>\n      <td>...</td>\n      <td>...</td>\n      <td>...</td>\n      <td>...</td>\n      <td>...</td>\n      <td>...</td>\n      <td>...</td>\n      <td>...</td>\n      <td>...</td>\n      <td>...</td>\n      <td>...</td>\n    </tr>\n    <tr>\n      <th>110005</th>\n      <td>18asYwWugKjjsihZ0YvRxO</td>\n      <td>Tiësto;Ava Max</td>\n      <td>The Motto</td>\n      <td>The Motto</td>\n      <td>86</td>\n      <td>164818</td>\n      <td>False</td>\n      <td>0.754</td>\n      <td>0.763</td>\n      <td>7</td>\n      <td>-4.627</td>\n      <td>0</td>\n      <td>0.0435</td>\n      <td>0.03010</td>\n      <td>0.000022</td>\n      <td>0.0901</td>\n      <td>0.4640</td>\n      <td>117.953</td>\n      <td>4</td>\n      <td>trance</td>\n    </tr>\n    <tr>\n      <th>110006</th>\n      <td>3Z7CaxQkqbIs1rewKi6v4W</td>\n      <td>Tiësto;Charli XCX</td>\n      <td>Hot In It</td>\n      <td>Hot In It</td>\n      <td>84</td>\n      <td>129817</td>\n      <td>False</td>\n      <td>0.748</td>\n      <td>0.841</td>\n      <td>7</td>\n      <td>-5.080</td>\n      <td>1</td>\n      <td>0.1770</td>\n      <td>0.00445</td>\n      <td>0.000001</td>\n      <td>0.0413</td>\n      <td>0.7170</td>\n      <td>123.045</td>\n      <td>4</td>\n      <td>trance</td>\n    </tr>\n    <tr>\n      <th>110055</th>\n      <td>2yEHX6MqAXPyD7bm47A2Br</td>\n      <td>Tiësto;Black Eyed Peas</td>\n      <td>Pump It Louder</td>\n      <td>Pump It Louder</td>\n      <td>76</td>\n      <td>158571</td>\n      <td>False</td>\n      <td>0.660</td>\n      <td>0.942</td>\n      <td>4</td>\n      <td>-2.273</td>\n      <td>1</td>\n      <td>0.1850</td>\n      <td>0.00789</td>\n      <td>0.000018</td>\n      <td>0.8340</td>\n      <td>0.5430</td>\n      <td>126.017</td>\n      <td>4</td>\n      <td>trance</td>\n    </tr>\n    <tr>\n      <th>110075</th>\n      <td>3KruoUtSkm84Az0bJunnxl</td>\n      <td>Tiësto</td>\n      <td>Baila Conmigo</td>\n      <td>Baila Conmigo</td>\n      <td>76</td>\n      <td>146249</td>\n      <td>False</td>\n      <td>0.652</td>\n      <td>0.855</td>\n      <td>7</td>\n      <td>-6.411</td>\n      <td>1</td>\n      <td>0.0775</td>\n      <td>0.00658</td>\n      <td>0.409000</td>\n      <td>0.3410</td>\n      <td>0.0834</td>\n      <td>127.964</td>\n      <td>4</td>\n      <td>trance</td>\n    </tr>\n    <tr>\n      <th>112650</th>\n      <td>10n66m41IGjA2ZulKPK7Ew</td>\n      <td>Madrigal</td>\n      <td>Seni Dert Etmeler</td>\n      <td>Seni Dert Etmeler</td>\n      <td>77</td>\n      <td>188500</td>\n      <td>False</td>\n      <td>0.552</td>\n      <td>0.608</td>\n      <td>5</td>\n      <td>-11.211</td>\n      <td>0</td>\n      <td>0.0274</td>\n      <td>0.14800</td>\n      <td>0.000021</td>\n      <td>0.3320</td>\n      <td>0.8350</td>\n      <td>88.002</td>\n      <td>4</td>\n      <td>turkish</td>\n    </tr>\n  </tbody>\n</table>\n<p>2412 rows × 20 columns</p>\n</div>"
     },
     "execution_count": 14,
     "metadata": {},
     "output_type": "execute_result"
    }
   ],
   "source": [
    "df[df[\"popularity\"] > 75]"
   ]
  },
  {
   "cell_type": "markdown",
   "id": "PSYhtdMsl44g",
   "metadata": {
    "id": "PSYhtdMsl44g"
   },
   "source": [
    "Сначала мы нашли только значения одного артиста, после количество упоминаний этого артиста во всем датасете, получилось 11. И после вывели датасет только с этим артистом."
   ]
  },
  {
   "cell_type": "code",
   "execution_count": 13,
   "id": "UWjOLPNDl5Ma",
   "metadata": {
    "colab": {
     "base_uri": "https://localhost:8080/",
     "height": 813
    },
    "id": "UWjOLPNDl5Ma",
    "outputId": "7585c6d4-157c-4f52-b3b0-675ff790342f",
    "ExecuteTime": {
     "end_time": "2023-12-30T12:38:40.478104Z",
     "start_time": "2023-12-30T12:38:40.451694Z"
    }
   },
   "outputs": [
    {
     "data": {
      "text/plain": "                     track_id          artists  \\\n20583  7yglOIWHwpJHRsIfQPFvVc  Black Eyed Peas   \n20591  6KDNxqCFmCGu0yd27xvnSG  Black Eyed Peas   \n20593  00Vp4bBQAZ1s9KEIw5MjgQ  Black Eyed Peas   \n20595  75UegXE5joSMwu6vZGRDC3  Black Eyed Peas   \n20596  3mMwmaDw0Z5W0zVgfyA43J  Black Eyed Peas   \n20597  5rZCbYSbQ98GZk0eBqmEKq  Black Eyed Peas   \n20598  4GsD2QeWDNtpJiZk9xzvfL  Black Eyed Peas   \n20599  2a5BDryUuj3S3nDRyEIEuj  Black Eyed Peas   \n20635  1rQ6RruR3K2lcAMmN0Kuyb  Black Eyed Peas   \n20649  7BkGPqc6eufUYOuAaPyiPh  Black Eyed Peas   \n\n                                 album_name          track_name  popularity  \\\n20583            OO's Music Grandi Successi      Rock That Body           3   \n20591                  Обратно в клас - pop     I Gotta Feeling           1   \n20593  Tutti in piscina Canzoni per bambini     I Gotta Feeling           1   \n20595                     Workout Hits 2023     I Gotta Feeling           1   \n20596                       Almorzando solo             Pump It           0   \n20597           De ese gran pop de los 00's  Where Is The Love?           0   \n20598                        Sunny Mornings  Where Is The Love?           0   \n20599                     Del gusto de mamá     I Gotta Feeling           0   \n20635            OO's Music Grandi Successi            My Humps           4   \n20649           De ese gran pop de los 00's     I Gotta Feeling           0   \n\n       duration_ms  explicit  danceability  energy  key  loudness  mode  \\\n20583       268840     False         0.715   0.907    7    -6.025     0   \n20591       289493     False         0.746   0.793    0    -5.725     1   \n20593       289493     False         0.746   0.793    0    -5.725     1   \n20595       289493     False         0.746   0.793    0    -5.725     1   \n20596       213613     False         0.648   0.924    9    -3.157     1   \n20597       273813     False         0.832   0.702    5    -3.236     1   \n20598       273813     False         0.832   0.702    5    -3.236     1   \n20599       289493     False         0.746   0.793    0    -5.725     1   \n20635       326960     False         0.802   0.682    1    -5.919     0   \n20649       289493     False         0.746   0.793    0    -5.725     1   \n\n       speechiness  acousticness  instrumentalness  liveness  valence  \\\n20583       0.0993       0.01720          0.000084     0.426    0.841   \n20591       0.0265       0.05190          0.000000     0.421    0.656   \n20593       0.0265       0.05190          0.000000     0.421    0.656   \n20595       0.0265       0.05190          0.000000     0.421    0.656   \n20596       0.1760       0.00949          0.000000     0.564    0.752   \n20597       0.1730       0.10300          0.000000     0.128    0.814   \n20598       0.1730       0.10300          0.000000     0.128    0.814   \n20599       0.0265       0.05190          0.000000     0.421    0.656   \n20635       0.2250       0.11200          0.000016     0.109    0.586   \n20649       0.0265       0.05190          0.000000     0.421    0.656   \n\n         tempo  time_signature track_genre  \n20583  124.991               4       dance  \n20591  127.973               4       dance  \n20593  127.973               4       dance  \n20595  127.973               4       dance  \n20596  153.670               4       dance  \n20597   94.097               4       dance  \n20598   94.097               4       dance  \n20599  127.973               4       dance  \n20635  123.940               4       dance  \n20649  127.973               4       dance  ",
      "text/html": "<div>\n<style scoped>\n    .dataframe tbody tr th:only-of-type {\n        vertical-align: middle;\n    }\n\n    .dataframe tbody tr th {\n        vertical-align: top;\n    }\n\n    .dataframe thead th {\n        text-align: right;\n    }\n</style>\n<table border=\"1\" class=\"dataframe\">\n  <thead>\n    <tr style=\"text-align: right;\">\n      <th></th>\n      <th>track_id</th>\n      <th>artists</th>\n      <th>album_name</th>\n      <th>track_name</th>\n      <th>popularity</th>\n      <th>duration_ms</th>\n      <th>explicit</th>\n      <th>danceability</th>\n      <th>energy</th>\n      <th>key</th>\n      <th>loudness</th>\n      <th>mode</th>\n      <th>speechiness</th>\n      <th>acousticness</th>\n      <th>instrumentalness</th>\n      <th>liveness</th>\n      <th>valence</th>\n      <th>tempo</th>\n      <th>time_signature</th>\n      <th>track_genre</th>\n    </tr>\n  </thead>\n  <tbody>\n    <tr>\n      <th>20583</th>\n      <td>7yglOIWHwpJHRsIfQPFvVc</td>\n      <td>Black Eyed Peas</td>\n      <td>OO's Music Grandi Successi</td>\n      <td>Rock That Body</td>\n      <td>3</td>\n      <td>268840</td>\n      <td>False</td>\n      <td>0.715</td>\n      <td>0.907</td>\n      <td>7</td>\n      <td>-6.025</td>\n      <td>0</td>\n      <td>0.0993</td>\n      <td>0.01720</td>\n      <td>0.000084</td>\n      <td>0.426</td>\n      <td>0.841</td>\n      <td>124.991</td>\n      <td>4</td>\n      <td>dance</td>\n    </tr>\n    <tr>\n      <th>20591</th>\n      <td>6KDNxqCFmCGu0yd27xvnSG</td>\n      <td>Black Eyed Peas</td>\n      <td>Обратно в клас - pop</td>\n      <td>I Gotta Feeling</td>\n      <td>1</td>\n      <td>289493</td>\n      <td>False</td>\n      <td>0.746</td>\n      <td>0.793</td>\n      <td>0</td>\n      <td>-5.725</td>\n      <td>1</td>\n      <td>0.0265</td>\n      <td>0.05190</td>\n      <td>0.000000</td>\n      <td>0.421</td>\n      <td>0.656</td>\n      <td>127.973</td>\n      <td>4</td>\n      <td>dance</td>\n    </tr>\n    <tr>\n      <th>20593</th>\n      <td>00Vp4bBQAZ1s9KEIw5MjgQ</td>\n      <td>Black Eyed Peas</td>\n      <td>Tutti in piscina Canzoni per bambini</td>\n      <td>I Gotta Feeling</td>\n      <td>1</td>\n      <td>289493</td>\n      <td>False</td>\n      <td>0.746</td>\n      <td>0.793</td>\n      <td>0</td>\n      <td>-5.725</td>\n      <td>1</td>\n      <td>0.0265</td>\n      <td>0.05190</td>\n      <td>0.000000</td>\n      <td>0.421</td>\n      <td>0.656</td>\n      <td>127.973</td>\n      <td>4</td>\n      <td>dance</td>\n    </tr>\n    <tr>\n      <th>20595</th>\n      <td>75UegXE5joSMwu6vZGRDC3</td>\n      <td>Black Eyed Peas</td>\n      <td>Workout Hits 2023</td>\n      <td>I Gotta Feeling</td>\n      <td>1</td>\n      <td>289493</td>\n      <td>False</td>\n      <td>0.746</td>\n      <td>0.793</td>\n      <td>0</td>\n      <td>-5.725</td>\n      <td>1</td>\n      <td>0.0265</td>\n      <td>0.05190</td>\n      <td>0.000000</td>\n      <td>0.421</td>\n      <td>0.656</td>\n      <td>127.973</td>\n      <td>4</td>\n      <td>dance</td>\n    </tr>\n    <tr>\n      <th>20596</th>\n      <td>3mMwmaDw0Z5W0zVgfyA43J</td>\n      <td>Black Eyed Peas</td>\n      <td>Almorzando solo</td>\n      <td>Pump It</td>\n      <td>0</td>\n      <td>213613</td>\n      <td>False</td>\n      <td>0.648</td>\n      <td>0.924</td>\n      <td>9</td>\n      <td>-3.157</td>\n      <td>1</td>\n      <td>0.1760</td>\n      <td>0.00949</td>\n      <td>0.000000</td>\n      <td>0.564</td>\n      <td>0.752</td>\n      <td>153.670</td>\n      <td>4</td>\n      <td>dance</td>\n    </tr>\n    <tr>\n      <th>20597</th>\n      <td>5rZCbYSbQ98GZk0eBqmEKq</td>\n      <td>Black Eyed Peas</td>\n      <td>De ese gran pop de los 00's</td>\n      <td>Where Is The Love?</td>\n      <td>0</td>\n      <td>273813</td>\n      <td>False</td>\n      <td>0.832</td>\n      <td>0.702</td>\n      <td>5</td>\n      <td>-3.236</td>\n      <td>1</td>\n      <td>0.1730</td>\n      <td>0.10300</td>\n      <td>0.000000</td>\n      <td>0.128</td>\n      <td>0.814</td>\n      <td>94.097</td>\n      <td>4</td>\n      <td>dance</td>\n    </tr>\n    <tr>\n      <th>20598</th>\n      <td>4GsD2QeWDNtpJiZk9xzvfL</td>\n      <td>Black Eyed Peas</td>\n      <td>Sunny Mornings</td>\n      <td>Where Is The Love?</td>\n      <td>0</td>\n      <td>273813</td>\n      <td>False</td>\n      <td>0.832</td>\n      <td>0.702</td>\n      <td>5</td>\n      <td>-3.236</td>\n      <td>1</td>\n      <td>0.1730</td>\n      <td>0.10300</td>\n      <td>0.000000</td>\n      <td>0.128</td>\n      <td>0.814</td>\n      <td>94.097</td>\n      <td>4</td>\n      <td>dance</td>\n    </tr>\n    <tr>\n      <th>20599</th>\n      <td>2a5BDryUuj3S3nDRyEIEuj</td>\n      <td>Black Eyed Peas</td>\n      <td>Del gusto de mamá</td>\n      <td>I Gotta Feeling</td>\n      <td>0</td>\n      <td>289493</td>\n      <td>False</td>\n      <td>0.746</td>\n      <td>0.793</td>\n      <td>0</td>\n      <td>-5.725</td>\n      <td>1</td>\n      <td>0.0265</td>\n      <td>0.05190</td>\n      <td>0.000000</td>\n      <td>0.421</td>\n      <td>0.656</td>\n      <td>127.973</td>\n      <td>4</td>\n      <td>dance</td>\n    </tr>\n    <tr>\n      <th>20635</th>\n      <td>1rQ6RruR3K2lcAMmN0Kuyb</td>\n      <td>Black Eyed Peas</td>\n      <td>OO's Music Grandi Successi</td>\n      <td>My Humps</td>\n      <td>4</td>\n      <td>326960</td>\n      <td>False</td>\n      <td>0.802</td>\n      <td>0.682</td>\n      <td>1</td>\n      <td>-5.919</td>\n      <td>0</td>\n      <td>0.2250</td>\n      <td>0.11200</td>\n      <td>0.000016</td>\n      <td>0.109</td>\n      <td>0.586</td>\n      <td>123.940</td>\n      <td>4</td>\n      <td>dance</td>\n    </tr>\n    <tr>\n      <th>20649</th>\n      <td>7BkGPqc6eufUYOuAaPyiPh</td>\n      <td>Black Eyed Peas</td>\n      <td>De ese gran pop de los 00's</td>\n      <td>I Gotta Feeling</td>\n      <td>0</td>\n      <td>289493</td>\n      <td>False</td>\n      <td>0.746</td>\n      <td>0.793</td>\n      <td>0</td>\n      <td>-5.725</td>\n      <td>1</td>\n      <td>0.0265</td>\n      <td>0.05190</td>\n      <td>0.000000</td>\n      <td>0.421</td>\n      <td>0.656</td>\n      <td>127.973</td>\n      <td>4</td>\n      <td>dance</td>\n    </tr>\n  </tbody>\n</table>\n</div>"
     },
     "execution_count": 13,
     "metadata": {},
     "output_type": "execute_result"
    }
   ],
   "source": [
    "BEP = df[\"artists\"] == \"Black Eyed Peas\"\n",
    "BEP.value_counts()\n",
    "df[BEP]"
   ]
  },
  {
   "cell_type": "markdown",
   "id": "jSWmbh7WnYmY",
   "metadata": {
    "id": "jSWmbh7WnYmY"
   },
   "source": [
    "Здесь вывели все акустические треки с популярностью больше 70."
   ]
  },
  {
   "cell_type": "code",
   "execution_count": 12,
   "id": "SssIcXOdnY49",
   "metadata": {
    "colab": {
     "base_uri": "https://localhost:8080/",
     "height": 907
    },
    "id": "SssIcXOdnY49",
    "outputId": "dd217a85-c638-40a2-e774-78af627e3d25",
    "ExecuteTime": {
     "end_time": "2023-12-30T12:38:37.357550Z",
     "start_time": "2023-12-30T12:38:37.334571Z"
    }
   },
   "outputs": [
    {
     "data": {
      "text/plain": "                   track_id                               artists  \\\n0    5SuOikwiRyPMVoIQDJUgSV                           Gen Hoshino   \n3    6lfxq3CG4xtTiEg7opyCyx                          Kina Grannis   \n4    5vjLSffimiIP26QG5WcN2K                      Chord Overstreet   \n6    6Vc5wAMmXdKIAM7WUoEb7N  A Great Big World;Christina Aguilera   \n7    1EzrEOXmMH3G43AXT1y7pA                            Jason Mraz   \n8    0IktbUcnAGrvD03AWnz3Q8             Jason Mraz;Colbie Caillat   \n10   4mzP5mHkRvGxdhdGdAH7EJ                          Zack Tabudlo   \n20   3S0OXQeoh0w6AY8WQVckRW                            Jason Mraz   \n60   08MFgEQeVLF37EyZ7jcwLc                          Zack Tabudlo   \n128  38YgZVHPWOWsKrsCXz6JyP                        Matt Nathanson   \n137  5p9XWUdvbUzmPCukOmwoU3                           KT Tunstall   \n169  4E6cwWJWZw2zWf7VFbH7wf                        Sara Bareilles   \n258  5MYPzdIWgx3pMLRGlq2fVq                          Zack Tabudlo   \n488  7jIAttgQTpLDoNtykIQXjH                        Violent Femmes   \n\n                                            album_name  \\\n0                                               Comedy   \n3    Crazy Rich Asians (Original Motion Picture Sou...   \n4                                              Hold On   \n6                          Is There Anybody Out There?   \n7                  We Sing. We Dance. We Steal Things.   \n8                  We Sing. We Dance. We Steal Things.   \n10                                             Episode   \n20                 We Sing. We Dance. We Steal Things.   \n60                                                Pano   \n128                                      Some Mad Hope   \n137                               Eye To The Telescope   \n169                                       Little Voice   \n258                                      Asan Ka Na Ba   \n488                                     Violent Femmes   \n\n                     track_name  popularity  duration_ms  explicit  \\\n0                        Comedy          73       230666     False   \n3    Can't Help Falling In Love          71       201933     False   \n4                       Hold On          82       198853     False   \n6                 Say Something          74       229400     False   \n7                     I'm Yours          80       242946     False   \n8                         Lucky          74       189613     False   \n10         Give Me Your Forever          74       244800     False   \n20                    I'm Yours          75       242946     False   \n60                         Pano          75       254400     False   \n128          Come On Get Higher          71       215173     False   \n137              Suddenly I See          73       201706     False   \n169                   Love Song          73       258826     False   \n258               Asan Ka Na Ba          73       241132     False   \n488          Blister In The Sun          71       145706     False   \n\n     danceability  energy  key  loudness  mode  speechiness  acousticness  \\\n0           0.676  0.4610    1    -6.746     0       0.1430        0.0322   \n3           0.266  0.0596    0   -18.515     1       0.0363        0.9050   \n4           0.618  0.4430    2    -9.681     1       0.0526        0.4690   \n6           0.407  0.1470    2    -8.822     1       0.0355        0.8570   \n7           0.703  0.4440   11    -9.331     1       0.0417        0.5590   \n8           0.625  0.4140    0    -8.700     1       0.0369        0.2940   \n10          0.627  0.3630    8    -8.127     1       0.0291        0.2790   \n20          0.703  0.4440   11    -9.331     1       0.0417        0.5590   \n60          0.375  0.4570    3    -7.018     1       0.0315        0.8680   \n128         0.672  0.6230    9    -5.699     1       0.0297        0.2410   \n137         0.587  0.7670    0    -5.713     1       0.0449        0.2250   \n169         0.583  0.7860    2    -3.142     0       0.0301        0.0208   \n258         0.676  0.7680    5    -5.695     0       0.0294        0.1490   \n488         0.726  0.5370    0    -8.896     1       0.1140        0.3160   \n\n     instrumentalness  liveness  valence    tempo  time_signature track_genre  \n0            0.000001    0.3580   0.7150   87.917               4    acoustic  \n3            0.000071    0.1320   0.1430  181.740               3    acoustic  \n4            0.000000    0.0829   0.1670  119.949               4    acoustic  \n6            0.000003    0.0913   0.0765  141.284               3    acoustic  \n7            0.000000    0.0973   0.7120  150.960               4    acoustic  \n8            0.000000    0.1510   0.6690  130.088               4    acoustic  \n10           0.000000    0.0928   0.3010   99.905               4    acoustic  \n20           0.000000    0.0973   0.7120  150.960               4    acoustic  \n60           0.014500    0.1910   0.4150  174.839               3    acoustic  \n128          0.000000    0.0848   0.6170   92.018               4    acoustic  \n137          0.000000    0.1120   0.6640  100.380               4    acoustic  \n169          0.000000    0.1880   0.5730  123.055               4    acoustic  \n258          0.001470    0.3450   0.4930  105.999               4    acoustic  \n488          0.000000    0.0707   0.8820   96.889               4    acoustic  ",
      "text/html": "<div>\n<style scoped>\n    .dataframe tbody tr th:only-of-type {\n        vertical-align: middle;\n    }\n\n    .dataframe tbody tr th {\n        vertical-align: top;\n    }\n\n    .dataframe thead th {\n        text-align: right;\n    }\n</style>\n<table border=\"1\" class=\"dataframe\">\n  <thead>\n    <tr style=\"text-align: right;\">\n      <th></th>\n      <th>track_id</th>\n      <th>artists</th>\n      <th>album_name</th>\n      <th>track_name</th>\n      <th>popularity</th>\n      <th>duration_ms</th>\n      <th>explicit</th>\n      <th>danceability</th>\n      <th>energy</th>\n      <th>key</th>\n      <th>loudness</th>\n      <th>mode</th>\n      <th>speechiness</th>\n      <th>acousticness</th>\n      <th>instrumentalness</th>\n      <th>liveness</th>\n      <th>valence</th>\n      <th>tempo</th>\n      <th>time_signature</th>\n      <th>track_genre</th>\n    </tr>\n  </thead>\n  <tbody>\n    <tr>\n      <th>0</th>\n      <td>5SuOikwiRyPMVoIQDJUgSV</td>\n      <td>Gen Hoshino</td>\n      <td>Comedy</td>\n      <td>Comedy</td>\n      <td>73</td>\n      <td>230666</td>\n      <td>False</td>\n      <td>0.676</td>\n      <td>0.4610</td>\n      <td>1</td>\n      <td>-6.746</td>\n      <td>0</td>\n      <td>0.1430</td>\n      <td>0.0322</td>\n      <td>0.000001</td>\n      <td>0.3580</td>\n      <td>0.7150</td>\n      <td>87.917</td>\n      <td>4</td>\n      <td>acoustic</td>\n    </tr>\n    <tr>\n      <th>3</th>\n      <td>6lfxq3CG4xtTiEg7opyCyx</td>\n      <td>Kina Grannis</td>\n      <td>Crazy Rich Asians (Original Motion Picture Sou...</td>\n      <td>Can't Help Falling In Love</td>\n      <td>71</td>\n      <td>201933</td>\n      <td>False</td>\n      <td>0.266</td>\n      <td>0.0596</td>\n      <td>0</td>\n      <td>-18.515</td>\n      <td>1</td>\n      <td>0.0363</td>\n      <td>0.9050</td>\n      <td>0.000071</td>\n      <td>0.1320</td>\n      <td>0.1430</td>\n      <td>181.740</td>\n      <td>3</td>\n      <td>acoustic</td>\n    </tr>\n    <tr>\n      <th>4</th>\n      <td>5vjLSffimiIP26QG5WcN2K</td>\n      <td>Chord Overstreet</td>\n      <td>Hold On</td>\n      <td>Hold On</td>\n      <td>82</td>\n      <td>198853</td>\n      <td>False</td>\n      <td>0.618</td>\n      <td>0.4430</td>\n      <td>2</td>\n      <td>-9.681</td>\n      <td>1</td>\n      <td>0.0526</td>\n      <td>0.4690</td>\n      <td>0.000000</td>\n      <td>0.0829</td>\n      <td>0.1670</td>\n      <td>119.949</td>\n      <td>4</td>\n      <td>acoustic</td>\n    </tr>\n    <tr>\n      <th>6</th>\n      <td>6Vc5wAMmXdKIAM7WUoEb7N</td>\n      <td>A Great Big World;Christina Aguilera</td>\n      <td>Is There Anybody Out There?</td>\n      <td>Say Something</td>\n      <td>74</td>\n      <td>229400</td>\n      <td>False</td>\n      <td>0.407</td>\n      <td>0.1470</td>\n      <td>2</td>\n      <td>-8.822</td>\n      <td>1</td>\n      <td>0.0355</td>\n      <td>0.8570</td>\n      <td>0.000003</td>\n      <td>0.0913</td>\n      <td>0.0765</td>\n      <td>141.284</td>\n      <td>3</td>\n      <td>acoustic</td>\n    </tr>\n    <tr>\n      <th>7</th>\n      <td>1EzrEOXmMH3G43AXT1y7pA</td>\n      <td>Jason Mraz</td>\n      <td>We Sing. We Dance. We Steal Things.</td>\n      <td>I'm Yours</td>\n      <td>80</td>\n      <td>242946</td>\n      <td>False</td>\n      <td>0.703</td>\n      <td>0.4440</td>\n      <td>11</td>\n      <td>-9.331</td>\n      <td>1</td>\n      <td>0.0417</td>\n      <td>0.5590</td>\n      <td>0.000000</td>\n      <td>0.0973</td>\n      <td>0.7120</td>\n      <td>150.960</td>\n      <td>4</td>\n      <td>acoustic</td>\n    </tr>\n    <tr>\n      <th>8</th>\n      <td>0IktbUcnAGrvD03AWnz3Q8</td>\n      <td>Jason Mraz;Colbie Caillat</td>\n      <td>We Sing. We Dance. We Steal Things.</td>\n      <td>Lucky</td>\n      <td>74</td>\n      <td>189613</td>\n      <td>False</td>\n      <td>0.625</td>\n      <td>0.4140</td>\n      <td>0</td>\n      <td>-8.700</td>\n      <td>1</td>\n      <td>0.0369</td>\n      <td>0.2940</td>\n      <td>0.000000</td>\n      <td>0.1510</td>\n      <td>0.6690</td>\n      <td>130.088</td>\n      <td>4</td>\n      <td>acoustic</td>\n    </tr>\n    <tr>\n      <th>10</th>\n      <td>4mzP5mHkRvGxdhdGdAH7EJ</td>\n      <td>Zack Tabudlo</td>\n      <td>Episode</td>\n      <td>Give Me Your Forever</td>\n      <td>74</td>\n      <td>244800</td>\n      <td>False</td>\n      <td>0.627</td>\n      <td>0.3630</td>\n      <td>8</td>\n      <td>-8.127</td>\n      <td>1</td>\n      <td>0.0291</td>\n      <td>0.2790</td>\n      <td>0.000000</td>\n      <td>0.0928</td>\n      <td>0.3010</td>\n      <td>99.905</td>\n      <td>4</td>\n      <td>acoustic</td>\n    </tr>\n    <tr>\n      <th>20</th>\n      <td>3S0OXQeoh0w6AY8WQVckRW</td>\n      <td>Jason Mraz</td>\n      <td>We Sing. We Dance. We Steal Things.</td>\n      <td>I'm Yours</td>\n      <td>75</td>\n      <td>242946</td>\n      <td>False</td>\n      <td>0.703</td>\n      <td>0.4440</td>\n      <td>11</td>\n      <td>-9.331</td>\n      <td>1</td>\n      <td>0.0417</td>\n      <td>0.5590</td>\n      <td>0.000000</td>\n      <td>0.0973</td>\n      <td>0.7120</td>\n      <td>150.960</td>\n      <td>4</td>\n      <td>acoustic</td>\n    </tr>\n    <tr>\n      <th>60</th>\n      <td>08MFgEQeVLF37EyZ7jcwLc</td>\n      <td>Zack Tabudlo</td>\n      <td>Pano</td>\n      <td>Pano</td>\n      <td>75</td>\n      <td>254400</td>\n      <td>False</td>\n      <td>0.375</td>\n      <td>0.4570</td>\n      <td>3</td>\n      <td>-7.018</td>\n      <td>1</td>\n      <td>0.0315</td>\n      <td>0.8680</td>\n      <td>0.014500</td>\n      <td>0.1910</td>\n      <td>0.4150</td>\n      <td>174.839</td>\n      <td>3</td>\n      <td>acoustic</td>\n    </tr>\n    <tr>\n      <th>128</th>\n      <td>38YgZVHPWOWsKrsCXz6JyP</td>\n      <td>Matt Nathanson</td>\n      <td>Some Mad Hope</td>\n      <td>Come On Get Higher</td>\n      <td>71</td>\n      <td>215173</td>\n      <td>False</td>\n      <td>0.672</td>\n      <td>0.6230</td>\n      <td>9</td>\n      <td>-5.699</td>\n      <td>1</td>\n      <td>0.0297</td>\n      <td>0.2410</td>\n      <td>0.000000</td>\n      <td>0.0848</td>\n      <td>0.6170</td>\n      <td>92.018</td>\n      <td>4</td>\n      <td>acoustic</td>\n    </tr>\n    <tr>\n      <th>137</th>\n      <td>5p9XWUdvbUzmPCukOmwoU3</td>\n      <td>KT Tunstall</td>\n      <td>Eye To The Telescope</td>\n      <td>Suddenly I See</td>\n      <td>73</td>\n      <td>201706</td>\n      <td>False</td>\n      <td>0.587</td>\n      <td>0.7670</td>\n      <td>0</td>\n      <td>-5.713</td>\n      <td>1</td>\n      <td>0.0449</td>\n      <td>0.2250</td>\n      <td>0.000000</td>\n      <td>0.1120</td>\n      <td>0.6640</td>\n      <td>100.380</td>\n      <td>4</td>\n      <td>acoustic</td>\n    </tr>\n    <tr>\n      <th>169</th>\n      <td>4E6cwWJWZw2zWf7VFbH7wf</td>\n      <td>Sara Bareilles</td>\n      <td>Little Voice</td>\n      <td>Love Song</td>\n      <td>73</td>\n      <td>258826</td>\n      <td>False</td>\n      <td>0.583</td>\n      <td>0.7860</td>\n      <td>2</td>\n      <td>-3.142</td>\n      <td>0</td>\n      <td>0.0301</td>\n      <td>0.0208</td>\n      <td>0.000000</td>\n      <td>0.1880</td>\n      <td>0.5730</td>\n      <td>123.055</td>\n      <td>4</td>\n      <td>acoustic</td>\n    </tr>\n    <tr>\n      <th>258</th>\n      <td>5MYPzdIWgx3pMLRGlq2fVq</td>\n      <td>Zack Tabudlo</td>\n      <td>Asan Ka Na Ba</td>\n      <td>Asan Ka Na Ba</td>\n      <td>73</td>\n      <td>241132</td>\n      <td>False</td>\n      <td>0.676</td>\n      <td>0.7680</td>\n      <td>5</td>\n      <td>-5.695</td>\n      <td>0</td>\n      <td>0.0294</td>\n      <td>0.1490</td>\n      <td>0.001470</td>\n      <td>0.3450</td>\n      <td>0.4930</td>\n      <td>105.999</td>\n      <td>4</td>\n      <td>acoustic</td>\n    </tr>\n    <tr>\n      <th>488</th>\n      <td>7jIAttgQTpLDoNtykIQXjH</td>\n      <td>Violent Femmes</td>\n      <td>Violent Femmes</td>\n      <td>Blister In The Sun</td>\n      <td>71</td>\n      <td>145706</td>\n      <td>False</td>\n      <td>0.726</td>\n      <td>0.5370</td>\n      <td>0</td>\n      <td>-8.896</td>\n      <td>1</td>\n      <td>0.1140</td>\n      <td>0.3160</td>\n      <td>0.000000</td>\n      <td>0.0707</td>\n      <td>0.8820</td>\n      <td>96.889</td>\n      <td>4</td>\n      <td>acoustic</td>\n    </tr>\n  </tbody>\n</table>\n</div>"
     },
     "execution_count": 12,
     "metadata": {},
     "output_type": "execute_result"
    }
   ],
   "source": [
    "df[(df[\"track_genre\"] == \"acoustic\") & (df[\"popularity\"] > 70)]"
   ]
  },
  {
   "cell_type": "markdown",
   "id": "_Wo7-LFnoAlc",
   "metadata": {
    "id": "_Wo7-LFnoAlc"
   },
   "source": [
    "4. Как минимум два аггрегирующих запроса + 2 запроса, использующих непосредственно groupby и дальнейшую аггрегацию по нему"
   ]
  },
  {
   "cell_type": "markdown",
   "id": "rwJhmmVDowHS",
   "metadata": {
    "id": "rwJhmmVDowHS"
   },
   "source": [
    "Ниже мы сделали аггрегацию с помощью describe по колонке popularity\n",
    "\n",
    "---\n",
    "\n"
   ]
  },
  {
   "cell_type": "code",
   "execution_count": 11,
   "id": "5Yi_JxGDoA9Y",
   "metadata": {
    "colab": {
     "base_uri": "https://localhost:8080/"
    },
    "id": "5Yi_JxGDoA9Y",
    "outputId": "2d91df40-7b65-4fe2-d14b-817496108c49",
    "ExecuteTime": {
     "end_time": "2023-12-30T12:38:33.143938Z",
     "start_time": "2023-12-30T12:38:33.116034Z"
    }
   },
   "outputs": [
    {
     "data": {
      "text/plain": "count    113550.000000\nmean         33.324139\nstd          22.283976\nmin           0.000000\n25%          17.000000\n50%          35.000000\n75%          50.000000\nmax         100.000000\nName: popularity, dtype: float64"
     },
     "execution_count": 11,
     "metadata": {},
     "output_type": "execute_result"
    }
   ],
   "source": [
    "df.popularity.describe()"
   ]
  },
  {
   "cell_type": "markdown",
   "source": [
    "Удаление дубликатов"
   ],
   "metadata": {
    "collapsed": false
   },
   "id": "7c9686352a61df96"
  },
  {
   "cell_type": "code",
   "execution_count": 8,
   "id": "59df15963670ce49",
   "metadata": {
    "collapsed": false,
    "ExecuteTime": {
     "end_time": "2023-12-30T12:38:19.451279Z",
     "start_time": "2023-12-30T12:38:19.384142Z"
    }
   },
   "outputs": [],
   "source": [
    "df = df.drop_duplicates()"
   ]
  },
  {
   "cell_type": "markdown",
   "source": [
    "Группировка по артистам и нахождение Топ-10 самых популярных из них"
   ],
   "metadata": {
    "collapsed": false
   },
   "id": "1ad30ef7d439baf8"
  },
  {
   "cell_type": "code",
   "execution_count": 9,
   "id": "he3FVKqqqXwR",
   "metadata": {
    "colab": {
     "base_uri": "https://localhost:8080/",
     "height": 598
    },
    "id": "he3FVKqqqXwR",
    "outputId": "836c0042-935a-46fa-cec2-3b9059f80d55",
    "ExecuteTime": {
     "end_time": "2023-12-30T12:38:22.752355Z",
     "start_time": "2023-12-30T12:38:22.731595Z"
    }
   },
   "outputs": [
    {
     "data": {
      "text/plain": "                                                  artists  \\\n20001                                Sam Smith;Kim Petras   \n81051                                Sam Smith;Kim Petras   \n51664                                    Bizarrap;Quevedo   \n20008                             David Guetta;Bebe Rexha   \n30003                             David Guetta;Bebe Rexha   \n...                                                   ...   \n101126             Traditional;Les Chanteurs de la Vierge   \n101127  Traditional;London Philharmonic Orchestra;The ...   \n101128  Traditional;Academy of St Martin in the Fields...   \n101129  Traditional;Friedrich Oberschelp;Christfried B...   \n88687                      Joey Montana;Danna Paola;NASRI   \n\n                                        album_name  \\\n20001                    Unholy (feat. Kim Petras)   \n81051                    Unholy (feat. Kim Petras)   \n51664        Quevedo: Bzrp Music Sessions, Vol. 52   \n20008                              I'm Good (Blue)   \n30003                              I'm Good (Blue)   \n...                                            ...   \n101126                 Classical Christmas, Vol. 2   \n101127                 Classical Christmas, Vol. 2   \n101128                    Weihnachten Klassik 2022   \n101129  Alle Jahre wieder: Weihnachten mit Kindern   \n88687                 Halloween 2022 Perreo Vol. 4   \n\n                                   track_name  popularity  \n20001               Unholy (feat. Kim Petras)         100  \n81051               Unholy (feat. Kim Petras)         100  \n51664   Quevedo: Bzrp Music Sessions, Vol. 52          99  \n20008                         I'm Good (Blue)          98  \n30003                         I'm Good (Blue)          98  \n...                                       ...         ...  \n101126    Voici la Nouvelle (Remastered 2014)           0  \n101127  And He Shall Purify (Remastered 2014)           0  \n101128      Sussex Carol (On Christmas Night)           0  \n101129                   O Freude über Freude           0  \n88687                              Everything           0  \n\n[113550 rows x 4 columns]",
      "text/html": "<div>\n<style scoped>\n    .dataframe tbody tr th:only-of-type {\n        vertical-align: middle;\n    }\n\n    .dataframe tbody tr th {\n        vertical-align: top;\n    }\n\n    .dataframe thead th {\n        text-align: right;\n    }\n</style>\n<table border=\"1\" class=\"dataframe\">\n  <thead>\n    <tr style=\"text-align: right;\">\n      <th></th>\n      <th>artists</th>\n      <th>album_name</th>\n      <th>track_name</th>\n      <th>popularity</th>\n    </tr>\n  </thead>\n  <tbody>\n    <tr>\n      <th>20001</th>\n      <td>Sam Smith;Kim Petras</td>\n      <td>Unholy (feat. Kim Petras)</td>\n      <td>Unholy (feat. Kim Petras)</td>\n      <td>100</td>\n    </tr>\n    <tr>\n      <th>81051</th>\n      <td>Sam Smith;Kim Petras</td>\n      <td>Unholy (feat. Kim Petras)</td>\n      <td>Unholy (feat. Kim Petras)</td>\n      <td>100</td>\n    </tr>\n    <tr>\n      <th>51664</th>\n      <td>Bizarrap;Quevedo</td>\n      <td>Quevedo: Bzrp Music Sessions, Vol. 52</td>\n      <td>Quevedo: Bzrp Music Sessions, Vol. 52</td>\n      <td>99</td>\n    </tr>\n    <tr>\n      <th>20008</th>\n      <td>David Guetta;Bebe Rexha</td>\n      <td>I'm Good (Blue)</td>\n      <td>I'm Good (Blue)</td>\n      <td>98</td>\n    </tr>\n    <tr>\n      <th>30003</th>\n      <td>David Guetta;Bebe Rexha</td>\n      <td>I'm Good (Blue)</td>\n      <td>I'm Good (Blue)</td>\n      <td>98</td>\n    </tr>\n    <tr>\n      <th>...</th>\n      <td>...</td>\n      <td>...</td>\n      <td>...</td>\n      <td>...</td>\n    </tr>\n    <tr>\n      <th>101126</th>\n      <td>Traditional;Les Chanteurs de la Vierge</td>\n      <td>Classical Christmas, Vol. 2</td>\n      <td>Voici la Nouvelle (Remastered 2014)</td>\n      <td>0</td>\n    </tr>\n    <tr>\n      <th>101127</th>\n      <td>Traditional;London Philharmonic Orchestra;The ...</td>\n      <td>Classical Christmas, Vol. 2</td>\n      <td>And He Shall Purify (Remastered 2014)</td>\n      <td>0</td>\n    </tr>\n    <tr>\n      <th>101128</th>\n      <td>Traditional;Academy of St Martin in the Fields...</td>\n      <td>Weihnachten Klassik 2022</td>\n      <td>Sussex Carol (On Christmas Night)</td>\n      <td>0</td>\n    </tr>\n    <tr>\n      <th>101129</th>\n      <td>Traditional;Friedrich Oberschelp;Christfried B...</td>\n      <td>Alle Jahre wieder: Weihnachten mit Kindern</td>\n      <td>O Freude über Freude</td>\n      <td>0</td>\n    </tr>\n    <tr>\n      <th>88687</th>\n      <td>Joey Montana;Danna Paola;NASRI</td>\n      <td>Halloween 2022 Perreo Vol. 4</td>\n      <td>Everything</td>\n      <td>0</td>\n    </tr>\n  </tbody>\n</table>\n<p>113550 rows × 4 columns</p>\n</div>"
     },
     "execution_count": 9,
     "metadata": {},
     "output_type": "execute_result"
    }
   ],
   "source": [
    "df1 = df[[\"artists\",\"album_name\" , \"track_name\", \"popularity\"]]\n",
    "df1.sort_values(by='popularity', ascending=False)"
   ]
  },
  {
   "cell_type": "markdown",
   "id": "lWvcxvoSt4o3",
   "metadata": {
    "id": "lWvcxvoSt4o3"
   },
   "source": [
    "Группировка по артистам с подсчетом их количества"
   ]
  },
  {
   "cell_type": "code",
   "execution_count": 26,
   "id": "itThxq10raSR",
   "metadata": {
    "colab": {
     "base_uri": "https://localhost:8080/"
    },
    "id": "itThxq10raSR",
    "outputId": "f0cf7211-4bfe-480a-f651-46578af55848",
    "ExecuteTime": {
     "end_time": "2023-12-30T12:39:48.641786Z",
     "start_time": "2023-12-30T12:39:48.632062Z"
    }
   },
   "outputs": [
    {
     "data": {
      "text/plain": "artists\n!nvite                                                 2\n\"Puppy Dog Pals\" Cast                                  2\n\"Weird Al\" Yankovic                                   15\n#Kids;Nursery Rhymes;Nursery Rhymes and Kids Songs     1\n$affie                                                 1\n                                                      ..\n黃仲崑                                                    3\n黃妃                                                     2\n黃小琥                                                    1\n黃敏華                                                    1\n龍藏Ryuzo                                                2\nLength: 31437, dtype: int64"
     },
     "execution_count": 26,
     "metadata": {},
     "output_type": "execute_result"
    }
   ],
   "source": [
    "df.groupby(\"artists\").size()"
   ]
  },
  {
   "cell_type": "code",
   "execution_count": null,
   "outputs": [],
   "source": [],
   "metadata": {
    "collapsed": false
   },
   "id": "ae173bcb9955237b"
  }
 ],
 "metadata": {
  "colab": {
   "provenance": []
  },
  "kernelspec": {
   "display_name": "Python 3 (ipykernel)",
   "language": "python",
   "name": "python3"
  },
  "language_info": {
   "codemirror_mode": {
    "name": "ipython",
    "version": 3
   },
   "file_extension": ".py",
   "mimetype": "text/x-python",
   "name": "python",
   "nbconvert_exporter": "python",
   "pygments_lexer": "ipython3",
   "version": "3.10.11"
  }
 },
 "nbformat": 4,
 "nbformat_minor": 5
}
